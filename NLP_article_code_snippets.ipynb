{
  "nbformat": 4,
  "nbformat_minor": 0,
  "metadata": {
    "colab": {
      "provenance": []
    },
    "kernelspec": {
      "name": "python3",
      "display_name": "Python 3"
    },
    "language_info": {
      "name": "python"
    },
    "widgets": {
      "application/vnd.jupyter.widget-state+json": {
        "088bf5f490d24d6fa6157e2e34deaeaa": {
          "model_module": "@jupyter-widgets/controls",
          "model_name": "HBoxModel",
          "model_module_version": "1.5.0",
          "state": {
            "_dom_classes": [],
            "_model_module": "@jupyter-widgets/controls",
            "_model_module_version": "1.5.0",
            "_model_name": "HBoxModel",
            "_view_count": null,
            "_view_module": "@jupyter-widgets/controls",
            "_view_module_version": "1.5.0",
            "_view_name": "HBoxView",
            "box_style": "",
            "children": [
              "IPY_MODEL_2478d1162e0f4fe5afc22f73e986bfab",
              "IPY_MODEL_b5dab2cce1ad4ddd8cf0b5bbbd79cdb4",
              "IPY_MODEL_2720852afdb149ce9bfdfb8be67b4130"
            ],
            "layout": "IPY_MODEL_90c7a8cf2729461ebf48a674b1de29c5"
          }
        },
        "2478d1162e0f4fe5afc22f73e986bfab": {
          "model_module": "@jupyter-widgets/controls",
          "model_name": "HTMLModel",
          "model_module_version": "1.5.0",
          "state": {
            "_dom_classes": [],
            "_model_module": "@jupyter-widgets/controls",
            "_model_module_version": "1.5.0",
            "_model_name": "HTMLModel",
            "_view_count": null,
            "_view_module": "@jupyter-widgets/controls",
            "_view_module_version": "1.5.0",
            "_view_name": "HTMLView",
            "description": "",
            "description_tooltip": null,
            "layout": "IPY_MODEL_cc36d9ab2eee4a7c86c7c9b366654b73",
            "placeholder": "​",
            "style": "IPY_MODEL_ba6aae9c2236438bb515a56125136adc",
            "value": "config.json: "
          }
        },
        "b5dab2cce1ad4ddd8cf0b5bbbd79cdb4": {
          "model_module": "@jupyter-widgets/controls",
          "model_name": "FloatProgressModel",
          "model_module_version": "1.5.0",
          "state": {
            "_dom_classes": [],
            "_model_module": "@jupyter-widgets/controls",
            "_model_module_version": "1.5.0",
            "_model_name": "FloatProgressModel",
            "_view_count": null,
            "_view_module": "@jupyter-widgets/controls",
            "_view_module_version": "1.5.0",
            "_view_name": "ProgressView",
            "bar_style": "success",
            "description": "",
            "description_tooltip": null,
            "layout": "IPY_MODEL_d7073406b519410d8744557c20616ced",
            "max": 1,
            "min": 0,
            "orientation": "horizontal",
            "style": "IPY_MODEL_f235dff2c6b1488ea76bb1a76354e8bb",
            "value": 1
          }
        },
        "2720852afdb149ce9bfdfb8be67b4130": {
          "model_module": "@jupyter-widgets/controls",
          "model_name": "HTMLModel",
          "model_module_version": "1.5.0",
          "state": {
            "_dom_classes": [],
            "_model_module": "@jupyter-widgets/controls",
            "_model_module_version": "1.5.0",
            "_model_name": "HTMLModel",
            "_view_count": null,
            "_view_module": "@jupyter-widgets/controls",
            "_view_module_version": "1.5.0",
            "_view_name": "HTMLView",
            "description": "",
            "description_tooltip": null,
            "layout": "IPY_MODEL_338e805724754deebd8f832c6c6fc399",
            "placeholder": "​",
            "style": "IPY_MODEL_05104572b84346f0982357ecfd905803",
            "value": " 1.80k/? [00:00&lt;00:00, 21.1kB/s]"
          }
        },
        "90c7a8cf2729461ebf48a674b1de29c5": {
          "model_module": "@jupyter-widgets/base",
          "model_name": "LayoutModel",
          "model_module_version": "1.2.0",
          "state": {
            "_model_module": "@jupyter-widgets/base",
            "_model_module_version": "1.2.0",
            "_model_name": "LayoutModel",
            "_view_count": null,
            "_view_module": "@jupyter-widgets/base",
            "_view_module_version": "1.2.0",
            "_view_name": "LayoutView",
            "align_content": null,
            "align_items": null,
            "align_self": null,
            "border": null,
            "bottom": null,
            "display": null,
            "flex": null,
            "flex_flow": null,
            "grid_area": null,
            "grid_auto_columns": null,
            "grid_auto_flow": null,
            "grid_auto_rows": null,
            "grid_column": null,
            "grid_gap": null,
            "grid_row": null,
            "grid_template_areas": null,
            "grid_template_columns": null,
            "grid_template_rows": null,
            "height": null,
            "justify_content": null,
            "justify_items": null,
            "left": null,
            "margin": null,
            "max_height": null,
            "max_width": null,
            "min_height": null,
            "min_width": null,
            "object_fit": null,
            "object_position": null,
            "order": null,
            "overflow": null,
            "overflow_x": null,
            "overflow_y": null,
            "padding": null,
            "right": null,
            "top": null,
            "visibility": null,
            "width": null
          }
        },
        "cc36d9ab2eee4a7c86c7c9b366654b73": {
          "model_module": "@jupyter-widgets/base",
          "model_name": "LayoutModel",
          "model_module_version": "1.2.0",
          "state": {
            "_model_module": "@jupyter-widgets/base",
            "_model_module_version": "1.2.0",
            "_model_name": "LayoutModel",
            "_view_count": null,
            "_view_module": "@jupyter-widgets/base",
            "_view_module_version": "1.2.0",
            "_view_name": "LayoutView",
            "align_content": null,
            "align_items": null,
            "align_self": null,
            "border": null,
            "bottom": null,
            "display": null,
            "flex": null,
            "flex_flow": null,
            "grid_area": null,
            "grid_auto_columns": null,
            "grid_auto_flow": null,
            "grid_auto_rows": null,
            "grid_column": null,
            "grid_gap": null,
            "grid_row": null,
            "grid_template_areas": null,
            "grid_template_columns": null,
            "grid_template_rows": null,
            "height": null,
            "justify_content": null,
            "justify_items": null,
            "left": null,
            "margin": null,
            "max_height": null,
            "max_width": null,
            "min_height": null,
            "min_width": null,
            "object_fit": null,
            "object_position": null,
            "order": null,
            "overflow": null,
            "overflow_x": null,
            "overflow_y": null,
            "padding": null,
            "right": null,
            "top": null,
            "visibility": null,
            "width": null
          }
        },
        "ba6aae9c2236438bb515a56125136adc": {
          "model_module": "@jupyter-widgets/controls",
          "model_name": "DescriptionStyleModel",
          "model_module_version": "1.5.0",
          "state": {
            "_model_module": "@jupyter-widgets/controls",
            "_model_module_version": "1.5.0",
            "_model_name": "DescriptionStyleModel",
            "_view_count": null,
            "_view_module": "@jupyter-widgets/base",
            "_view_module_version": "1.2.0",
            "_view_name": "StyleView",
            "description_width": ""
          }
        },
        "d7073406b519410d8744557c20616ced": {
          "model_module": "@jupyter-widgets/base",
          "model_name": "LayoutModel",
          "model_module_version": "1.2.0",
          "state": {
            "_model_module": "@jupyter-widgets/base",
            "_model_module_version": "1.2.0",
            "_model_name": "LayoutModel",
            "_view_count": null,
            "_view_module": "@jupyter-widgets/base",
            "_view_module_version": "1.2.0",
            "_view_name": "LayoutView",
            "align_content": null,
            "align_items": null,
            "align_self": null,
            "border": null,
            "bottom": null,
            "display": null,
            "flex": null,
            "flex_flow": null,
            "grid_area": null,
            "grid_auto_columns": null,
            "grid_auto_flow": null,
            "grid_auto_rows": null,
            "grid_column": null,
            "grid_gap": null,
            "grid_row": null,
            "grid_template_areas": null,
            "grid_template_columns": null,
            "grid_template_rows": null,
            "height": null,
            "justify_content": null,
            "justify_items": null,
            "left": null,
            "margin": null,
            "max_height": null,
            "max_width": null,
            "min_height": null,
            "min_width": null,
            "object_fit": null,
            "object_position": null,
            "order": null,
            "overflow": null,
            "overflow_x": null,
            "overflow_y": null,
            "padding": null,
            "right": null,
            "top": null,
            "visibility": null,
            "width": "20px"
          }
        },
        "f235dff2c6b1488ea76bb1a76354e8bb": {
          "model_module": "@jupyter-widgets/controls",
          "model_name": "ProgressStyleModel",
          "model_module_version": "1.5.0",
          "state": {
            "_model_module": "@jupyter-widgets/controls",
            "_model_module_version": "1.5.0",
            "_model_name": "ProgressStyleModel",
            "_view_count": null,
            "_view_module": "@jupyter-widgets/base",
            "_view_module_version": "1.2.0",
            "_view_name": "StyleView",
            "bar_color": null,
            "description_width": ""
          }
        },
        "338e805724754deebd8f832c6c6fc399": {
          "model_module": "@jupyter-widgets/base",
          "model_name": "LayoutModel",
          "model_module_version": "1.2.0",
          "state": {
            "_model_module": "@jupyter-widgets/base",
            "_model_module_version": "1.2.0",
            "_model_name": "LayoutModel",
            "_view_count": null,
            "_view_module": "@jupyter-widgets/base",
            "_view_module_version": "1.2.0",
            "_view_name": "LayoutView",
            "align_content": null,
            "align_items": null,
            "align_self": null,
            "border": null,
            "bottom": null,
            "display": null,
            "flex": null,
            "flex_flow": null,
            "grid_area": null,
            "grid_auto_columns": null,
            "grid_auto_flow": null,
            "grid_auto_rows": null,
            "grid_column": null,
            "grid_gap": null,
            "grid_row": null,
            "grid_template_areas": null,
            "grid_template_columns": null,
            "grid_template_rows": null,
            "height": null,
            "justify_content": null,
            "justify_items": null,
            "left": null,
            "margin": null,
            "max_height": null,
            "max_width": null,
            "min_height": null,
            "min_width": null,
            "object_fit": null,
            "object_position": null,
            "order": null,
            "overflow": null,
            "overflow_x": null,
            "overflow_y": null,
            "padding": null,
            "right": null,
            "top": null,
            "visibility": null,
            "width": null
          }
        },
        "05104572b84346f0982357ecfd905803": {
          "model_module": "@jupyter-widgets/controls",
          "model_name": "DescriptionStyleModel",
          "model_module_version": "1.5.0",
          "state": {
            "_model_module": "@jupyter-widgets/controls",
            "_model_module_version": "1.5.0",
            "_model_name": "DescriptionStyleModel",
            "_view_count": null,
            "_view_module": "@jupyter-widgets/base",
            "_view_module_version": "1.2.0",
            "_view_name": "StyleView",
            "description_width": ""
          }
        },
        "6f8367bbb4a54bc7a7146fefe26b809d": {
          "model_module": "@jupyter-widgets/controls",
          "model_name": "HBoxModel",
          "model_module_version": "1.5.0",
          "state": {
            "_dom_classes": [],
            "_model_module": "@jupyter-widgets/controls",
            "_model_module_version": "1.5.0",
            "_model_name": "HBoxModel",
            "_view_count": null,
            "_view_module": "@jupyter-widgets/controls",
            "_view_module_version": "1.5.0",
            "_view_name": "HBoxView",
            "box_style": "",
            "children": [
              "IPY_MODEL_47872fcdfab94753a17236122ec83a21",
              "IPY_MODEL_db970d73167b4f5880b73b4138484511",
              "IPY_MODEL_82294468c9b943ab83a4ad6ffd7ef45e"
            ],
            "layout": "IPY_MODEL_416ccb0493c04870a92b58476be942cc"
          }
        },
        "47872fcdfab94753a17236122ec83a21": {
          "model_module": "@jupyter-widgets/controls",
          "model_name": "HTMLModel",
          "model_module_version": "1.5.0",
          "state": {
            "_dom_classes": [],
            "_model_module": "@jupyter-widgets/controls",
            "_model_module_version": "1.5.0",
            "_model_name": "HTMLModel",
            "_view_count": null,
            "_view_module": "@jupyter-widgets/controls",
            "_view_module_version": "1.5.0",
            "_view_name": "HTMLView",
            "description": "",
            "description_tooltip": null,
            "layout": "IPY_MODEL_b2a31473169e4eaf8db869d043091515",
            "placeholder": "​",
            "style": "IPY_MODEL_9f8d6842ae5d4466b4852fb9484e4974",
            "value": "pytorch_model.bin: 100%"
          }
        },
        "db970d73167b4f5880b73b4138484511": {
          "model_module": "@jupyter-widgets/controls",
          "model_name": "FloatProgressModel",
          "model_module_version": "1.5.0",
          "state": {
            "_dom_classes": [],
            "_model_module": "@jupyter-widgets/controls",
            "_model_module_version": "1.5.0",
            "_model_name": "FloatProgressModel",
            "_view_count": null,
            "_view_module": "@jupyter-widgets/controls",
            "_view_module_version": "1.5.0",
            "_view_name": "ProgressView",
            "bar_style": "success",
            "description": "",
            "description_tooltip": null,
            "layout": "IPY_MODEL_51347523673e4591876ebb62baee6e23",
            "max": 1222317369,
            "min": 0,
            "orientation": "horizontal",
            "style": "IPY_MODEL_df519b4fb5b340098645baf4ca12785b",
            "value": 1222317369
          }
        },
        "82294468c9b943ab83a4ad6ffd7ef45e": {
          "model_module": "@jupyter-widgets/controls",
          "model_name": "HTMLModel",
          "model_module_version": "1.5.0",
          "state": {
            "_dom_classes": [],
            "_model_module": "@jupyter-widgets/controls",
            "_model_module_version": "1.5.0",
            "_model_name": "HTMLModel",
            "_view_count": null,
            "_view_module": "@jupyter-widgets/controls",
            "_view_module_version": "1.5.0",
            "_view_name": "HTMLView",
            "description": "",
            "description_tooltip": null,
            "layout": "IPY_MODEL_5abf1afe124d44a48d2deafd5f6c28ec",
            "placeholder": "​",
            "style": "IPY_MODEL_a11dd3a61cce4fd0aabaa303cb4c2081",
            "value": " 1.22G/1.22G [00:34&lt;00:00, 47.8MB/s]"
          }
        },
        "416ccb0493c04870a92b58476be942cc": {
          "model_module": "@jupyter-widgets/base",
          "model_name": "LayoutModel",
          "model_module_version": "1.2.0",
          "state": {
            "_model_module": "@jupyter-widgets/base",
            "_model_module_version": "1.2.0",
            "_model_name": "LayoutModel",
            "_view_count": null,
            "_view_module": "@jupyter-widgets/base",
            "_view_module_version": "1.2.0",
            "_view_name": "LayoutView",
            "align_content": null,
            "align_items": null,
            "align_self": null,
            "border": null,
            "bottom": null,
            "display": null,
            "flex": null,
            "flex_flow": null,
            "grid_area": null,
            "grid_auto_columns": null,
            "grid_auto_flow": null,
            "grid_auto_rows": null,
            "grid_column": null,
            "grid_gap": null,
            "grid_row": null,
            "grid_template_areas": null,
            "grid_template_columns": null,
            "grid_template_rows": null,
            "height": null,
            "justify_content": null,
            "justify_items": null,
            "left": null,
            "margin": null,
            "max_height": null,
            "max_width": null,
            "min_height": null,
            "min_width": null,
            "object_fit": null,
            "object_position": null,
            "order": null,
            "overflow": null,
            "overflow_x": null,
            "overflow_y": null,
            "padding": null,
            "right": null,
            "top": null,
            "visibility": null,
            "width": null
          }
        },
        "b2a31473169e4eaf8db869d043091515": {
          "model_module": "@jupyter-widgets/base",
          "model_name": "LayoutModel",
          "model_module_version": "1.2.0",
          "state": {
            "_model_module": "@jupyter-widgets/base",
            "_model_module_version": "1.2.0",
            "_model_name": "LayoutModel",
            "_view_count": null,
            "_view_module": "@jupyter-widgets/base",
            "_view_module_version": "1.2.0",
            "_view_name": "LayoutView",
            "align_content": null,
            "align_items": null,
            "align_self": null,
            "border": null,
            "bottom": null,
            "display": null,
            "flex": null,
            "flex_flow": null,
            "grid_area": null,
            "grid_auto_columns": null,
            "grid_auto_flow": null,
            "grid_auto_rows": null,
            "grid_column": null,
            "grid_gap": null,
            "grid_row": null,
            "grid_template_areas": null,
            "grid_template_columns": null,
            "grid_template_rows": null,
            "height": null,
            "justify_content": null,
            "justify_items": null,
            "left": null,
            "margin": null,
            "max_height": null,
            "max_width": null,
            "min_height": null,
            "min_width": null,
            "object_fit": null,
            "object_position": null,
            "order": null,
            "overflow": null,
            "overflow_x": null,
            "overflow_y": null,
            "padding": null,
            "right": null,
            "top": null,
            "visibility": null,
            "width": null
          }
        },
        "9f8d6842ae5d4466b4852fb9484e4974": {
          "model_module": "@jupyter-widgets/controls",
          "model_name": "DescriptionStyleModel",
          "model_module_version": "1.5.0",
          "state": {
            "_model_module": "@jupyter-widgets/controls",
            "_model_module_version": "1.5.0",
            "_model_name": "DescriptionStyleModel",
            "_view_count": null,
            "_view_module": "@jupyter-widgets/base",
            "_view_module_version": "1.2.0",
            "_view_name": "StyleView",
            "description_width": ""
          }
        },
        "51347523673e4591876ebb62baee6e23": {
          "model_module": "@jupyter-widgets/base",
          "model_name": "LayoutModel",
          "model_module_version": "1.2.0",
          "state": {
            "_model_module": "@jupyter-widgets/base",
            "_model_module_version": "1.2.0",
            "_model_name": "LayoutModel",
            "_view_count": null,
            "_view_module": "@jupyter-widgets/base",
            "_view_module_version": "1.2.0",
            "_view_name": "LayoutView",
            "align_content": null,
            "align_items": null,
            "align_self": null,
            "border": null,
            "bottom": null,
            "display": null,
            "flex": null,
            "flex_flow": null,
            "grid_area": null,
            "grid_auto_columns": null,
            "grid_auto_flow": null,
            "grid_auto_rows": null,
            "grid_column": null,
            "grid_gap": null,
            "grid_row": null,
            "grid_template_areas": null,
            "grid_template_columns": null,
            "grid_template_rows": null,
            "height": null,
            "justify_content": null,
            "justify_items": null,
            "left": null,
            "margin": null,
            "max_height": null,
            "max_width": null,
            "min_height": null,
            "min_width": null,
            "object_fit": null,
            "object_position": null,
            "order": null,
            "overflow": null,
            "overflow_x": null,
            "overflow_y": null,
            "padding": null,
            "right": null,
            "top": null,
            "visibility": null,
            "width": null
          }
        },
        "df519b4fb5b340098645baf4ca12785b": {
          "model_module": "@jupyter-widgets/controls",
          "model_name": "ProgressStyleModel",
          "model_module_version": "1.5.0",
          "state": {
            "_model_module": "@jupyter-widgets/controls",
            "_model_module_version": "1.5.0",
            "_model_name": "ProgressStyleModel",
            "_view_count": null,
            "_view_module": "@jupyter-widgets/base",
            "_view_module_version": "1.2.0",
            "_view_name": "StyleView",
            "bar_color": null,
            "description_width": ""
          }
        },
        "5abf1afe124d44a48d2deafd5f6c28ec": {
          "model_module": "@jupyter-widgets/base",
          "model_name": "LayoutModel",
          "model_module_version": "1.2.0",
          "state": {
            "_model_module": "@jupyter-widgets/base",
            "_model_module_version": "1.2.0",
            "_model_name": "LayoutModel",
            "_view_count": null,
            "_view_module": "@jupyter-widgets/base",
            "_view_module_version": "1.2.0",
            "_view_name": "LayoutView",
            "align_content": null,
            "align_items": null,
            "align_self": null,
            "border": null,
            "bottom": null,
            "display": null,
            "flex": null,
            "flex_flow": null,
            "grid_area": null,
            "grid_auto_columns": null,
            "grid_auto_flow": null,
            "grid_auto_rows": null,
            "grid_column": null,
            "grid_gap": null,
            "grid_row": null,
            "grid_template_areas": null,
            "grid_template_columns": null,
            "grid_template_rows": null,
            "height": null,
            "justify_content": null,
            "justify_items": null,
            "left": null,
            "margin": null,
            "max_height": null,
            "max_width": null,
            "min_height": null,
            "min_width": null,
            "object_fit": null,
            "object_position": null,
            "order": null,
            "overflow": null,
            "overflow_x": null,
            "overflow_y": null,
            "padding": null,
            "right": null,
            "top": null,
            "visibility": null,
            "width": null
          }
        },
        "a11dd3a61cce4fd0aabaa303cb4c2081": {
          "model_module": "@jupyter-widgets/controls",
          "model_name": "DescriptionStyleModel",
          "model_module_version": "1.5.0",
          "state": {
            "_model_module": "@jupyter-widgets/controls",
            "_model_module_version": "1.5.0",
            "_model_name": "DescriptionStyleModel",
            "_view_count": null,
            "_view_module": "@jupyter-widgets/base",
            "_view_module_version": "1.2.0",
            "_view_name": "StyleView",
            "description_width": ""
          }
        },
        "b4dc617042614ba390671c9aacb10061": {
          "model_module": "@jupyter-widgets/controls",
          "model_name": "HBoxModel",
          "model_module_version": "1.5.0",
          "state": {
            "_dom_classes": [],
            "_model_module": "@jupyter-widgets/controls",
            "_model_module_version": "1.5.0",
            "_model_name": "HBoxModel",
            "_view_count": null,
            "_view_module": "@jupyter-widgets/controls",
            "_view_module_version": "1.5.0",
            "_view_name": "HBoxView",
            "box_style": "",
            "children": [
              "IPY_MODEL_d95d829a2ccd4b01979a18a3b6b27ef9",
              "IPY_MODEL_34729aea3a404cbba240dab7be0d5939",
              "IPY_MODEL_9296d0e93a8942c0bc9e4bb094dcb3fb"
            ],
            "layout": "IPY_MODEL_e49b5a94e49a419b9cbd2d091be3e254"
          }
        },
        "d95d829a2ccd4b01979a18a3b6b27ef9": {
          "model_module": "@jupyter-widgets/controls",
          "model_name": "HTMLModel",
          "model_module_version": "1.5.0",
          "state": {
            "_dom_classes": [],
            "_model_module": "@jupyter-widgets/controls",
            "_model_module_version": "1.5.0",
            "_model_name": "HTMLModel",
            "_view_count": null,
            "_view_module": "@jupyter-widgets/controls",
            "_view_module_version": "1.5.0",
            "_view_name": "HTMLView",
            "description": "",
            "description_tooltip": null,
            "layout": "IPY_MODEL_00975005a132439b9997a45bba30f8a3",
            "placeholder": "​",
            "style": "IPY_MODEL_65911ecff1874ea297dc0de17b48a913",
            "value": "model.safetensors: 100%"
          }
        },
        "34729aea3a404cbba240dab7be0d5939": {
          "model_module": "@jupyter-widgets/controls",
          "model_name": "FloatProgressModel",
          "model_module_version": "1.5.0",
          "state": {
            "_dom_classes": [],
            "_model_module": "@jupyter-widgets/controls",
            "_model_module_version": "1.5.0",
            "_model_name": "FloatProgressModel",
            "_view_count": null,
            "_view_module": "@jupyter-widgets/controls",
            "_view_module_version": "1.5.0",
            "_view_name": "ProgressView",
            "bar_style": "success",
            "description": "",
            "description_tooltip": null,
            "layout": "IPY_MODEL_e5c2b6c2764f42329451ae8b233ff281",
            "max": 1222284424,
            "min": 0,
            "orientation": "horizontal",
            "style": "IPY_MODEL_356088d088f1477ebcbe7062b4e2bfe0",
            "value": 1222284424
          }
        },
        "9296d0e93a8942c0bc9e4bb094dcb3fb": {
          "model_module": "@jupyter-widgets/controls",
          "model_name": "HTMLModel",
          "model_module_version": "1.5.0",
          "state": {
            "_dom_classes": [],
            "_model_module": "@jupyter-widgets/controls",
            "_model_module_version": "1.5.0",
            "_model_name": "HTMLModel",
            "_view_count": null,
            "_view_module": "@jupyter-widgets/controls",
            "_view_module_version": "1.5.0",
            "_view_name": "HTMLView",
            "description": "",
            "description_tooltip": null,
            "layout": "IPY_MODEL_6df38e58364f43ecbcab76d329546e35",
            "placeholder": "​",
            "style": "IPY_MODEL_4598528ba35b48ac947c64f262619ec3",
            "value": " 1.22G/1.22G [00:29&lt;00:00, 131MB/s]"
          }
        },
        "e49b5a94e49a419b9cbd2d091be3e254": {
          "model_module": "@jupyter-widgets/base",
          "model_name": "LayoutModel",
          "model_module_version": "1.2.0",
          "state": {
            "_model_module": "@jupyter-widgets/base",
            "_model_module_version": "1.2.0",
            "_model_name": "LayoutModel",
            "_view_count": null,
            "_view_module": "@jupyter-widgets/base",
            "_view_module_version": "1.2.0",
            "_view_name": "LayoutView",
            "align_content": null,
            "align_items": null,
            "align_self": null,
            "border": null,
            "bottom": null,
            "display": null,
            "flex": null,
            "flex_flow": null,
            "grid_area": null,
            "grid_auto_columns": null,
            "grid_auto_flow": null,
            "grid_auto_rows": null,
            "grid_column": null,
            "grid_gap": null,
            "grid_row": null,
            "grid_template_areas": null,
            "grid_template_columns": null,
            "grid_template_rows": null,
            "height": null,
            "justify_content": null,
            "justify_items": null,
            "left": null,
            "margin": null,
            "max_height": null,
            "max_width": null,
            "min_height": null,
            "min_width": null,
            "object_fit": null,
            "object_position": null,
            "order": null,
            "overflow": null,
            "overflow_x": null,
            "overflow_y": null,
            "padding": null,
            "right": null,
            "top": null,
            "visibility": null,
            "width": null
          }
        },
        "00975005a132439b9997a45bba30f8a3": {
          "model_module": "@jupyter-widgets/base",
          "model_name": "LayoutModel",
          "model_module_version": "1.2.0",
          "state": {
            "_model_module": "@jupyter-widgets/base",
            "_model_module_version": "1.2.0",
            "_model_name": "LayoutModel",
            "_view_count": null,
            "_view_module": "@jupyter-widgets/base",
            "_view_module_version": "1.2.0",
            "_view_name": "LayoutView",
            "align_content": null,
            "align_items": null,
            "align_self": null,
            "border": null,
            "bottom": null,
            "display": null,
            "flex": null,
            "flex_flow": null,
            "grid_area": null,
            "grid_auto_columns": null,
            "grid_auto_flow": null,
            "grid_auto_rows": null,
            "grid_column": null,
            "grid_gap": null,
            "grid_row": null,
            "grid_template_areas": null,
            "grid_template_columns": null,
            "grid_template_rows": null,
            "height": null,
            "justify_content": null,
            "justify_items": null,
            "left": null,
            "margin": null,
            "max_height": null,
            "max_width": null,
            "min_height": null,
            "min_width": null,
            "object_fit": null,
            "object_position": null,
            "order": null,
            "overflow": null,
            "overflow_x": null,
            "overflow_y": null,
            "padding": null,
            "right": null,
            "top": null,
            "visibility": null,
            "width": null
          }
        },
        "65911ecff1874ea297dc0de17b48a913": {
          "model_module": "@jupyter-widgets/controls",
          "model_name": "DescriptionStyleModel",
          "model_module_version": "1.5.0",
          "state": {
            "_model_module": "@jupyter-widgets/controls",
            "_model_module_version": "1.5.0",
            "_model_name": "DescriptionStyleModel",
            "_view_count": null,
            "_view_module": "@jupyter-widgets/base",
            "_view_module_version": "1.2.0",
            "_view_name": "StyleView",
            "description_width": ""
          }
        },
        "e5c2b6c2764f42329451ae8b233ff281": {
          "model_module": "@jupyter-widgets/base",
          "model_name": "LayoutModel",
          "model_module_version": "1.2.0",
          "state": {
            "_model_module": "@jupyter-widgets/base",
            "_model_module_version": "1.2.0",
            "_model_name": "LayoutModel",
            "_view_count": null,
            "_view_module": "@jupyter-widgets/base",
            "_view_module_version": "1.2.0",
            "_view_name": "LayoutView",
            "align_content": null,
            "align_items": null,
            "align_self": null,
            "border": null,
            "bottom": null,
            "display": null,
            "flex": null,
            "flex_flow": null,
            "grid_area": null,
            "grid_auto_columns": null,
            "grid_auto_flow": null,
            "grid_auto_rows": null,
            "grid_column": null,
            "grid_gap": null,
            "grid_row": null,
            "grid_template_areas": null,
            "grid_template_columns": null,
            "grid_template_rows": null,
            "height": null,
            "justify_content": null,
            "justify_items": null,
            "left": null,
            "margin": null,
            "max_height": null,
            "max_width": null,
            "min_height": null,
            "min_width": null,
            "object_fit": null,
            "object_position": null,
            "order": null,
            "overflow": null,
            "overflow_x": null,
            "overflow_y": null,
            "padding": null,
            "right": null,
            "top": null,
            "visibility": null,
            "width": null
          }
        },
        "356088d088f1477ebcbe7062b4e2bfe0": {
          "model_module": "@jupyter-widgets/controls",
          "model_name": "ProgressStyleModel",
          "model_module_version": "1.5.0",
          "state": {
            "_model_module": "@jupyter-widgets/controls",
            "_model_module_version": "1.5.0",
            "_model_name": "ProgressStyleModel",
            "_view_count": null,
            "_view_module": "@jupyter-widgets/base",
            "_view_module_version": "1.2.0",
            "_view_name": "StyleView",
            "bar_color": null,
            "description_width": ""
          }
        },
        "6df38e58364f43ecbcab76d329546e35": {
          "model_module": "@jupyter-widgets/base",
          "model_name": "LayoutModel",
          "model_module_version": "1.2.0",
          "state": {
            "_model_module": "@jupyter-widgets/base",
            "_model_module_version": "1.2.0",
            "_model_name": "LayoutModel",
            "_view_count": null,
            "_view_module": "@jupyter-widgets/base",
            "_view_module_version": "1.2.0",
            "_view_name": "LayoutView",
            "align_content": null,
            "align_items": null,
            "align_self": null,
            "border": null,
            "bottom": null,
            "display": null,
            "flex": null,
            "flex_flow": null,
            "grid_area": null,
            "grid_auto_columns": null,
            "grid_auto_flow": null,
            "grid_auto_rows": null,
            "grid_column": null,
            "grid_gap": null,
            "grid_row": null,
            "grid_template_areas": null,
            "grid_template_columns": null,
            "grid_template_rows": null,
            "height": null,
            "justify_content": null,
            "justify_items": null,
            "left": null,
            "margin": null,
            "max_height": null,
            "max_width": null,
            "min_height": null,
            "min_width": null,
            "object_fit": null,
            "object_position": null,
            "order": null,
            "overflow": null,
            "overflow_x": null,
            "overflow_y": null,
            "padding": null,
            "right": null,
            "top": null,
            "visibility": null,
            "width": null
          }
        },
        "4598528ba35b48ac947c64f262619ec3": {
          "model_module": "@jupyter-widgets/controls",
          "model_name": "DescriptionStyleModel",
          "model_module_version": "1.5.0",
          "state": {
            "_model_module": "@jupyter-widgets/controls",
            "_model_module_version": "1.5.0",
            "_model_name": "DescriptionStyleModel",
            "_view_count": null,
            "_view_module": "@jupyter-widgets/base",
            "_view_module_version": "1.2.0",
            "_view_name": "StyleView",
            "description_width": ""
          }
        },
        "2a3448befe3f4ef3a88cac155f664019": {
          "model_module": "@jupyter-widgets/controls",
          "model_name": "HBoxModel",
          "model_module_version": "1.5.0",
          "state": {
            "_dom_classes": [],
            "_model_module": "@jupyter-widgets/controls",
            "_model_module_version": "1.5.0",
            "_model_name": "HBoxModel",
            "_view_count": null,
            "_view_module": "@jupyter-widgets/controls",
            "_view_module_version": "1.5.0",
            "_view_name": "HBoxView",
            "box_style": "",
            "children": [
              "IPY_MODEL_183577ac61794393a7bb9b570e5516e1",
              "IPY_MODEL_a7ac64f750fa41a1a2f05c82e9ea4a3a",
              "IPY_MODEL_f8160828e06c4e7f901e73074a60da81"
            ],
            "layout": "IPY_MODEL_2c5e9e6a84f243caa165f8630ba27dcb"
          }
        },
        "183577ac61794393a7bb9b570e5516e1": {
          "model_module": "@jupyter-widgets/controls",
          "model_name": "HTMLModel",
          "model_module_version": "1.5.0",
          "state": {
            "_dom_classes": [],
            "_model_module": "@jupyter-widgets/controls",
            "_model_module_version": "1.5.0",
            "_model_name": "HTMLModel",
            "_view_count": null,
            "_view_module": "@jupyter-widgets/controls",
            "_view_module_version": "1.5.0",
            "_view_name": "HTMLView",
            "description": "",
            "description_tooltip": null,
            "layout": "IPY_MODEL_3809bf3b29214162878677d17541ec83",
            "placeholder": "​",
            "style": "IPY_MODEL_13b2f1480b634b1b90c21935d6ab4caf",
            "value": "tokenizer_config.json: 100%"
          }
        },
        "a7ac64f750fa41a1a2f05c82e9ea4a3a": {
          "model_module": "@jupyter-widgets/controls",
          "model_name": "FloatProgressModel",
          "model_module_version": "1.5.0",
          "state": {
            "_dom_classes": [],
            "_model_module": "@jupyter-widgets/controls",
            "_model_module_version": "1.5.0",
            "_model_name": "FloatProgressModel",
            "_view_count": null,
            "_view_module": "@jupyter-widgets/controls",
            "_view_module_version": "1.5.0",
            "_view_name": "ProgressView",
            "bar_style": "success",
            "description": "",
            "description_tooltip": null,
            "layout": "IPY_MODEL_845ce41de1694482b69634252a358740",
            "max": 26,
            "min": 0,
            "orientation": "horizontal",
            "style": "IPY_MODEL_fa0dc5d9613649e3970a49432f8cbe6f",
            "value": 26
          }
        },
        "f8160828e06c4e7f901e73074a60da81": {
          "model_module": "@jupyter-widgets/controls",
          "model_name": "HTMLModel",
          "model_module_version": "1.5.0",
          "state": {
            "_dom_classes": [],
            "_model_module": "@jupyter-widgets/controls",
            "_model_module_version": "1.5.0",
            "_model_name": "HTMLModel",
            "_view_count": null,
            "_view_module": "@jupyter-widgets/controls",
            "_view_module_version": "1.5.0",
            "_view_name": "HTMLView",
            "description": "",
            "description_tooltip": null,
            "layout": "IPY_MODEL_0ca9dcfd6a834970823d59bf07b3c0df",
            "placeholder": "​",
            "style": "IPY_MODEL_93e5b88e03104e61ba56e4a381cfd52f",
            "value": " 26.0/26.0 [00:00&lt;00:00, 506B/s]"
          }
        },
        "2c5e9e6a84f243caa165f8630ba27dcb": {
          "model_module": "@jupyter-widgets/base",
          "model_name": "LayoutModel",
          "model_module_version": "1.2.0",
          "state": {
            "_model_module": "@jupyter-widgets/base",
            "_model_module_version": "1.2.0",
            "_model_name": "LayoutModel",
            "_view_count": null,
            "_view_module": "@jupyter-widgets/base",
            "_view_module_version": "1.2.0",
            "_view_name": "LayoutView",
            "align_content": null,
            "align_items": null,
            "align_self": null,
            "border": null,
            "bottom": null,
            "display": null,
            "flex": null,
            "flex_flow": null,
            "grid_area": null,
            "grid_auto_columns": null,
            "grid_auto_flow": null,
            "grid_auto_rows": null,
            "grid_column": null,
            "grid_gap": null,
            "grid_row": null,
            "grid_template_areas": null,
            "grid_template_columns": null,
            "grid_template_rows": null,
            "height": null,
            "justify_content": null,
            "justify_items": null,
            "left": null,
            "margin": null,
            "max_height": null,
            "max_width": null,
            "min_height": null,
            "min_width": null,
            "object_fit": null,
            "object_position": null,
            "order": null,
            "overflow": null,
            "overflow_x": null,
            "overflow_y": null,
            "padding": null,
            "right": null,
            "top": null,
            "visibility": null,
            "width": null
          }
        },
        "3809bf3b29214162878677d17541ec83": {
          "model_module": "@jupyter-widgets/base",
          "model_name": "LayoutModel",
          "model_module_version": "1.2.0",
          "state": {
            "_model_module": "@jupyter-widgets/base",
            "_model_module_version": "1.2.0",
            "_model_name": "LayoutModel",
            "_view_count": null,
            "_view_module": "@jupyter-widgets/base",
            "_view_module_version": "1.2.0",
            "_view_name": "LayoutView",
            "align_content": null,
            "align_items": null,
            "align_self": null,
            "border": null,
            "bottom": null,
            "display": null,
            "flex": null,
            "flex_flow": null,
            "grid_area": null,
            "grid_auto_columns": null,
            "grid_auto_flow": null,
            "grid_auto_rows": null,
            "grid_column": null,
            "grid_gap": null,
            "grid_row": null,
            "grid_template_areas": null,
            "grid_template_columns": null,
            "grid_template_rows": null,
            "height": null,
            "justify_content": null,
            "justify_items": null,
            "left": null,
            "margin": null,
            "max_height": null,
            "max_width": null,
            "min_height": null,
            "min_width": null,
            "object_fit": null,
            "object_position": null,
            "order": null,
            "overflow": null,
            "overflow_x": null,
            "overflow_y": null,
            "padding": null,
            "right": null,
            "top": null,
            "visibility": null,
            "width": null
          }
        },
        "13b2f1480b634b1b90c21935d6ab4caf": {
          "model_module": "@jupyter-widgets/controls",
          "model_name": "DescriptionStyleModel",
          "model_module_version": "1.5.0",
          "state": {
            "_model_module": "@jupyter-widgets/controls",
            "_model_module_version": "1.5.0",
            "_model_name": "DescriptionStyleModel",
            "_view_count": null,
            "_view_module": "@jupyter-widgets/base",
            "_view_module_version": "1.2.0",
            "_view_name": "StyleView",
            "description_width": ""
          }
        },
        "845ce41de1694482b69634252a358740": {
          "model_module": "@jupyter-widgets/base",
          "model_name": "LayoutModel",
          "model_module_version": "1.2.0",
          "state": {
            "_model_module": "@jupyter-widgets/base",
            "_model_module_version": "1.2.0",
            "_model_name": "LayoutModel",
            "_view_count": null,
            "_view_module": "@jupyter-widgets/base",
            "_view_module_version": "1.2.0",
            "_view_name": "LayoutView",
            "align_content": null,
            "align_items": null,
            "align_self": null,
            "border": null,
            "bottom": null,
            "display": null,
            "flex": null,
            "flex_flow": null,
            "grid_area": null,
            "grid_auto_columns": null,
            "grid_auto_flow": null,
            "grid_auto_rows": null,
            "grid_column": null,
            "grid_gap": null,
            "grid_row": null,
            "grid_template_areas": null,
            "grid_template_columns": null,
            "grid_template_rows": null,
            "height": null,
            "justify_content": null,
            "justify_items": null,
            "left": null,
            "margin": null,
            "max_height": null,
            "max_width": null,
            "min_height": null,
            "min_width": null,
            "object_fit": null,
            "object_position": null,
            "order": null,
            "overflow": null,
            "overflow_x": null,
            "overflow_y": null,
            "padding": null,
            "right": null,
            "top": null,
            "visibility": null,
            "width": null
          }
        },
        "fa0dc5d9613649e3970a49432f8cbe6f": {
          "model_module": "@jupyter-widgets/controls",
          "model_name": "ProgressStyleModel",
          "model_module_version": "1.5.0",
          "state": {
            "_model_module": "@jupyter-widgets/controls",
            "_model_module_version": "1.5.0",
            "_model_name": "ProgressStyleModel",
            "_view_count": null,
            "_view_module": "@jupyter-widgets/base",
            "_view_module_version": "1.2.0",
            "_view_name": "StyleView",
            "bar_color": null,
            "description_width": ""
          }
        },
        "0ca9dcfd6a834970823d59bf07b3c0df": {
          "model_module": "@jupyter-widgets/base",
          "model_name": "LayoutModel",
          "model_module_version": "1.2.0",
          "state": {
            "_model_module": "@jupyter-widgets/base",
            "_model_module_version": "1.2.0",
            "_model_name": "LayoutModel",
            "_view_count": null,
            "_view_module": "@jupyter-widgets/base",
            "_view_module_version": "1.2.0",
            "_view_name": "LayoutView",
            "align_content": null,
            "align_items": null,
            "align_self": null,
            "border": null,
            "bottom": null,
            "display": null,
            "flex": null,
            "flex_flow": null,
            "grid_area": null,
            "grid_auto_columns": null,
            "grid_auto_flow": null,
            "grid_auto_rows": null,
            "grid_column": null,
            "grid_gap": null,
            "grid_row": null,
            "grid_template_areas": null,
            "grid_template_columns": null,
            "grid_template_rows": null,
            "height": null,
            "justify_content": null,
            "justify_items": null,
            "left": null,
            "margin": null,
            "max_height": null,
            "max_width": null,
            "min_height": null,
            "min_width": null,
            "object_fit": null,
            "object_position": null,
            "order": null,
            "overflow": null,
            "overflow_x": null,
            "overflow_y": null,
            "padding": null,
            "right": null,
            "top": null,
            "visibility": null,
            "width": null
          }
        },
        "93e5b88e03104e61ba56e4a381cfd52f": {
          "model_module": "@jupyter-widgets/controls",
          "model_name": "DescriptionStyleModel",
          "model_module_version": "1.5.0",
          "state": {
            "_model_module": "@jupyter-widgets/controls",
            "_model_module_version": "1.5.0",
            "_model_name": "DescriptionStyleModel",
            "_view_count": null,
            "_view_module": "@jupyter-widgets/base",
            "_view_module_version": "1.2.0",
            "_view_name": "StyleView",
            "description_width": ""
          }
        },
        "b1590b984f0d417eb79e49ace63aaa46": {
          "model_module": "@jupyter-widgets/controls",
          "model_name": "HBoxModel",
          "model_module_version": "1.5.0",
          "state": {
            "_dom_classes": [],
            "_model_module": "@jupyter-widgets/controls",
            "_model_module_version": "1.5.0",
            "_model_name": "HBoxModel",
            "_view_count": null,
            "_view_module": "@jupyter-widgets/controls",
            "_view_module_version": "1.5.0",
            "_view_name": "HBoxView",
            "box_style": "",
            "children": [
              "IPY_MODEL_7fc9f1acac7b44e38c2c7a3427a42b54",
              "IPY_MODEL_aebfb60e787c472f9f95576a0a3fbfe4",
              "IPY_MODEL_c84d767b9b4b408f8058854ed18e0635"
            ],
            "layout": "IPY_MODEL_81c83cda8b594942938bb40640898845"
          }
        },
        "7fc9f1acac7b44e38c2c7a3427a42b54": {
          "model_module": "@jupyter-widgets/controls",
          "model_name": "HTMLModel",
          "model_module_version": "1.5.0",
          "state": {
            "_dom_classes": [],
            "_model_module": "@jupyter-widgets/controls",
            "_model_module_version": "1.5.0",
            "_model_name": "HTMLModel",
            "_view_count": null,
            "_view_module": "@jupyter-widgets/controls",
            "_view_module_version": "1.5.0",
            "_view_name": "HTMLView",
            "description": "",
            "description_tooltip": null,
            "layout": "IPY_MODEL_d8e8b81298914e95b0617348083b1314",
            "placeholder": "​",
            "style": "IPY_MODEL_468afad27c5e4b1395604f06039d370b",
            "value": "vocab.json: "
          }
        },
        "aebfb60e787c472f9f95576a0a3fbfe4": {
          "model_module": "@jupyter-widgets/controls",
          "model_name": "FloatProgressModel",
          "model_module_version": "1.5.0",
          "state": {
            "_dom_classes": [],
            "_model_module": "@jupyter-widgets/controls",
            "_model_module_version": "1.5.0",
            "_model_name": "FloatProgressModel",
            "_view_count": null,
            "_view_module": "@jupyter-widgets/controls",
            "_view_module_version": "1.5.0",
            "_view_name": "ProgressView",
            "bar_style": "success",
            "description": "",
            "description_tooltip": null,
            "layout": "IPY_MODEL_22c4d2d2d5e44bde866cb0d0e29152db",
            "max": 1,
            "min": 0,
            "orientation": "horizontal",
            "style": "IPY_MODEL_50d26872bce5416ea87e71fecae9b362",
            "value": 1
          }
        },
        "c84d767b9b4b408f8058854ed18e0635": {
          "model_module": "@jupyter-widgets/controls",
          "model_name": "HTMLModel",
          "model_module_version": "1.5.0",
          "state": {
            "_dom_classes": [],
            "_model_module": "@jupyter-widgets/controls",
            "_model_module_version": "1.5.0",
            "_model_name": "HTMLModel",
            "_view_count": null,
            "_view_module": "@jupyter-widgets/controls",
            "_view_module_version": "1.5.0",
            "_view_name": "HTMLView",
            "description": "",
            "description_tooltip": null,
            "layout": "IPY_MODEL_781674685c8d4da3aa831e21bcd2fdd0",
            "placeholder": "​",
            "style": "IPY_MODEL_1195acccedf24f2c91296bbb4967eaeb",
            "value": " 899k/? [00:00&lt;00:00, 3.20MB/s]"
          }
        },
        "81c83cda8b594942938bb40640898845": {
          "model_module": "@jupyter-widgets/base",
          "model_name": "LayoutModel",
          "model_module_version": "1.2.0",
          "state": {
            "_model_module": "@jupyter-widgets/base",
            "_model_module_version": "1.2.0",
            "_model_name": "LayoutModel",
            "_view_count": null,
            "_view_module": "@jupyter-widgets/base",
            "_view_module_version": "1.2.0",
            "_view_name": "LayoutView",
            "align_content": null,
            "align_items": null,
            "align_self": null,
            "border": null,
            "bottom": null,
            "display": null,
            "flex": null,
            "flex_flow": null,
            "grid_area": null,
            "grid_auto_columns": null,
            "grid_auto_flow": null,
            "grid_auto_rows": null,
            "grid_column": null,
            "grid_gap": null,
            "grid_row": null,
            "grid_template_areas": null,
            "grid_template_columns": null,
            "grid_template_rows": null,
            "height": null,
            "justify_content": null,
            "justify_items": null,
            "left": null,
            "margin": null,
            "max_height": null,
            "max_width": null,
            "min_height": null,
            "min_width": null,
            "object_fit": null,
            "object_position": null,
            "order": null,
            "overflow": null,
            "overflow_x": null,
            "overflow_y": null,
            "padding": null,
            "right": null,
            "top": null,
            "visibility": null,
            "width": null
          }
        },
        "d8e8b81298914e95b0617348083b1314": {
          "model_module": "@jupyter-widgets/base",
          "model_name": "LayoutModel",
          "model_module_version": "1.2.0",
          "state": {
            "_model_module": "@jupyter-widgets/base",
            "_model_module_version": "1.2.0",
            "_model_name": "LayoutModel",
            "_view_count": null,
            "_view_module": "@jupyter-widgets/base",
            "_view_module_version": "1.2.0",
            "_view_name": "LayoutView",
            "align_content": null,
            "align_items": null,
            "align_self": null,
            "border": null,
            "bottom": null,
            "display": null,
            "flex": null,
            "flex_flow": null,
            "grid_area": null,
            "grid_auto_columns": null,
            "grid_auto_flow": null,
            "grid_auto_rows": null,
            "grid_column": null,
            "grid_gap": null,
            "grid_row": null,
            "grid_template_areas": null,
            "grid_template_columns": null,
            "grid_template_rows": null,
            "height": null,
            "justify_content": null,
            "justify_items": null,
            "left": null,
            "margin": null,
            "max_height": null,
            "max_width": null,
            "min_height": null,
            "min_width": null,
            "object_fit": null,
            "object_position": null,
            "order": null,
            "overflow": null,
            "overflow_x": null,
            "overflow_y": null,
            "padding": null,
            "right": null,
            "top": null,
            "visibility": null,
            "width": null
          }
        },
        "468afad27c5e4b1395604f06039d370b": {
          "model_module": "@jupyter-widgets/controls",
          "model_name": "DescriptionStyleModel",
          "model_module_version": "1.5.0",
          "state": {
            "_model_module": "@jupyter-widgets/controls",
            "_model_module_version": "1.5.0",
            "_model_name": "DescriptionStyleModel",
            "_view_count": null,
            "_view_module": "@jupyter-widgets/base",
            "_view_module_version": "1.2.0",
            "_view_name": "StyleView",
            "description_width": ""
          }
        },
        "22c4d2d2d5e44bde866cb0d0e29152db": {
          "model_module": "@jupyter-widgets/base",
          "model_name": "LayoutModel",
          "model_module_version": "1.2.0",
          "state": {
            "_model_module": "@jupyter-widgets/base",
            "_model_module_version": "1.2.0",
            "_model_name": "LayoutModel",
            "_view_count": null,
            "_view_module": "@jupyter-widgets/base",
            "_view_module_version": "1.2.0",
            "_view_name": "LayoutView",
            "align_content": null,
            "align_items": null,
            "align_self": null,
            "border": null,
            "bottom": null,
            "display": null,
            "flex": null,
            "flex_flow": null,
            "grid_area": null,
            "grid_auto_columns": null,
            "grid_auto_flow": null,
            "grid_auto_rows": null,
            "grid_column": null,
            "grid_gap": null,
            "grid_row": null,
            "grid_template_areas": null,
            "grid_template_columns": null,
            "grid_template_rows": null,
            "height": null,
            "justify_content": null,
            "justify_items": null,
            "left": null,
            "margin": null,
            "max_height": null,
            "max_width": null,
            "min_height": null,
            "min_width": null,
            "object_fit": null,
            "object_position": null,
            "order": null,
            "overflow": null,
            "overflow_x": null,
            "overflow_y": null,
            "padding": null,
            "right": null,
            "top": null,
            "visibility": null,
            "width": "20px"
          }
        },
        "50d26872bce5416ea87e71fecae9b362": {
          "model_module": "@jupyter-widgets/controls",
          "model_name": "ProgressStyleModel",
          "model_module_version": "1.5.0",
          "state": {
            "_model_module": "@jupyter-widgets/controls",
            "_model_module_version": "1.5.0",
            "_model_name": "ProgressStyleModel",
            "_view_count": null,
            "_view_module": "@jupyter-widgets/base",
            "_view_module_version": "1.2.0",
            "_view_name": "StyleView",
            "bar_color": null,
            "description_width": ""
          }
        },
        "781674685c8d4da3aa831e21bcd2fdd0": {
          "model_module": "@jupyter-widgets/base",
          "model_name": "LayoutModel",
          "model_module_version": "1.2.0",
          "state": {
            "_model_module": "@jupyter-widgets/base",
            "_model_module_version": "1.2.0",
            "_model_name": "LayoutModel",
            "_view_count": null,
            "_view_module": "@jupyter-widgets/base",
            "_view_module_version": "1.2.0",
            "_view_name": "LayoutView",
            "align_content": null,
            "align_items": null,
            "align_self": null,
            "border": null,
            "bottom": null,
            "display": null,
            "flex": null,
            "flex_flow": null,
            "grid_area": null,
            "grid_auto_columns": null,
            "grid_auto_flow": null,
            "grid_auto_rows": null,
            "grid_column": null,
            "grid_gap": null,
            "grid_row": null,
            "grid_template_areas": null,
            "grid_template_columns": null,
            "grid_template_rows": null,
            "height": null,
            "justify_content": null,
            "justify_items": null,
            "left": null,
            "margin": null,
            "max_height": null,
            "max_width": null,
            "min_height": null,
            "min_width": null,
            "object_fit": null,
            "object_position": null,
            "order": null,
            "overflow": null,
            "overflow_x": null,
            "overflow_y": null,
            "padding": null,
            "right": null,
            "top": null,
            "visibility": null,
            "width": null
          }
        },
        "1195acccedf24f2c91296bbb4967eaeb": {
          "model_module": "@jupyter-widgets/controls",
          "model_name": "DescriptionStyleModel",
          "model_module_version": "1.5.0",
          "state": {
            "_model_module": "@jupyter-widgets/controls",
            "_model_module_version": "1.5.0",
            "_model_name": "DescriptionStyleModel",
            "_view_count": null,
            "_view_module": "@jupyter-widgets/base",
            "_view_module_version": "1.2.0",
            "_view_name": "StyleView",
            "description_width": ""
          }
        },
        "fcdac4a769574605a980d31865bc81a8": {
          "model_module": "@jupyter-widgets/controls",
          "model_name": "HBoxModel",
          "model_module_version": "1.5.0",
          "state": {
            "_dom_classes": [],
            "_model_module": "@jupyter-widgets/controls",
            "_model_module_version": "1.5.0",
            "_model_name": "HBoxModel",
            "_view_count": null,
            "_view_module": "@jupyter-widgets/controls",
            "_view_module_version": "1.5.0",
            "_view_name": "HBoxView",
            "box_style": "",
            "children": [
              "IPY_MODEL_524d4dc41624425784f20eb9b1097ea1",
              "IPY_MODEL_529b1881315c4306aa8d93c18c12ba09",
              "IPY_MODEL_8fbf540225564452bc9ace65a8e4a1d9"
            ],
            "layout": "IPY_MODEL_1a85f635ad40494c9d24a4e8e70464ab"
          }
        },
        "524d4dc41624425784f20eb9b1097ea1": {
          "model_module": "@jupyter-widgets/controls",
          "model_name": "HTMLModel",
          "model_module_version": "1.5.0",
          "state": {
            "_dom_classes": [],
            "_model_module": "@jupyter-widgets/controls",
            "_model_module_version": "1.5.0",
            "_model_name": "HTMLModel",
            "_view_count": null,
            "_view_module": "@jupyter-widgets/controls",
            "_view_module_version": "1.5.0",
            "_view_name": "HTMLView",
            "description": "",
            "description_tooltip": null,
            "layout": "IPY_MODEL_8397898b0485494ca4f680867aef1283",
            "placeholder": "​",
            "style": "IPY_MODEL_a0cef3cdfaee4b7d80016e8601ee029b",
            "value": "merges.txt: "
          }
        },
        "529b1881315c4306aa8d93c18c12ba09": {
          "model_module": "@jupyter-widgets/controls",
          "model_name": "FloatProgressModel",
          "model_module_version": "1.5.0",
          "state": {
            "_dom_classes": [],
            "_model_module": "@jupyter-widgets/controls",
            "_model_module_version": "1.5.0",
            "_model_name": "FloatProgressModel",
            "_view_count": null,
            "_view_module": "@jupyter-widgets/controls",
            "_view_module_version": "1.5.0",
            "_view_name": "ProgressView",
            "bar_style": "success",
            "description": "",
            "description_tooltip": null,
            "layout": "IPY_MODEL_33e20da897214b24bec2592f8c68353f",
            "max": 1,
            "min": 0,
            "orientation": "horizontal",
            "style": "IPY_MODEL_d35d85028f724bdf9060752e25ae557a",
            "value": 1
          }
        },
        "8fbf540225564452bc9ace65a8e4a1d9": {
          "model_module": "@jupyter-widgets/controls",
          "model_name": "HTMLModel",
          "model_module_version": "1.5.0",
          "state": {
            "_dom_classes": [],
            "_model_module": "@jupyter-widgets/controls",
            "_model_module_version": "1.5.0",
            "_model_name": "HTMLModel",
            "_view_count": null,
            "_view_module": "@jupyter-widgets/controls",
            "_view_module_version": "1.5.0",
            "_view_name": "HTMLView",
            "description": "",
            "description_tooltip": null,
            "layout": "IPY_MODEL_94f97e85b86f455d835e11e36cf0e9cc",
            "placeholder": "​",
            "style": "IPY_MODEL_d06cd888876a4a2db7c3ea4040c332ea",
            "value": " 456k/? [00:00&lt;00:00, 5.00MB/s]"
          }
        },
        "1a85f635ad40494c9d24a4e8e70464ab": {
          "model_module": "@jupyter-widgets/base",
          "model_name": "LayoutModel",
          "model_module_version": "1.2.0",
          "state": {
            "_model_module": "@jupyter-widgets/base",
            "_model_module_version": "1.2.0",
            "_model_name": "LayoutModel",
            "_view_count": null,
            "_view_module": "@jupyter-widgets/base",
            "_view_module_version": "1.2.0",
            "_view_name": "LayoutView",
            "align_content": null,
            "align_items": null,
            "align_self": null,
            "border": null,
            "bottom": null,
            "display": null,
            "flex": null,
            "flex_flow": null,
            "grid_area": null,
            "grid_auto_columns": null,
            "grid_auto_flow": null,
            "grid_auto_rows": null,
            "grid_column": null,
            "grid_gap": null,
            "grid_row": null,
            "grid_template_areas": null,
            "grid_template_columns": null,
            "grid_template_rows": null,
            "height": null,
            "justify_content": null,
            "justify_items": null,
            "left": null,
            "margin": null,
            "max_height": null,
            "max_width": null,
            "min_height": null,
            "min_width": null,
            "object_fit": null,
            "object_position": null,
            "order": null,
            "overflow": null,
            "overflow_x": null,
            "overflow_y": null,
            "padding": null,
            "right": null,
            "top": null,
            "visibility": null,
            "width": null
          }
        },
        "8397898b0485494ca4f680867aef1283": {
          "model_module": "@jupyter-widgets/base",
          "model_name": "LayoutModel",
          "model_module_version": "1.2.0",
          "state": {
            "_model_module": "@jupyter-widgets/base",
            "_model_module_version": "1.2.0",
            "_model_name": "LayoutModel",
            "_view_count": null,
            "_view_module": "@jupyter-widgets/base",
            "_view_module_version": "1.2.0",
            "_view_name": "LayoutView",
            "align_content": null,
            "align_items": null,
            "align_self": null,
            "border": null,
            "bottom": null,
            "display": null,
            "flex": null,
            "flex_flow": null,
            "grid_area": null,
            "grid_auto_columns": null,
            "grid_auto_flow": null,
            "grid_auto_rows": null,
            "grid_column": null,
            "grid_gap": null,
            "grid_row": null,
            "grid_template_areas": null,
            "grid_template_columns": null,
            "grid_template_rows": null,
            "height": null,
            "justify_content": null,
            "justify_items": null,
            "left": null,
            "margin": null,
            "max_height": null,
            "max_width": null,
            "min_height": null,
            "min_width": null,
            "object_fit": null,
            "object_position": null,
            "order": null,
            "overflow": null,
            "overflow_x": null,
            "overflow_y": null,
            "padding": null,
            "right": null,
            "top": null,
            "visibility": null,
            "width": null
          }
        },
        "a0cef3cdfaee4b7d80016e8601ee029b": {
          "model_module": "@jupyter-widgets/controls",
          "model_name": "DescriptionStyleModel",
          "model_module_version": "1.5.0",
          "state": {
            "_model_module": "@jupyter-widgets/controls",
            "_model_module_version": "1.5.0",
            "_model_name": "DescriptionStyleModel",
            "_view_count": null,
            "_view_module": "@jupyter-widgets/base",
            "_view_module_version": "1.2.0",
            "_view_name": "StyleView",
            "description_width": ""
          }
        },
        "33e20da897214b24bec2592f8c68353f": {
          "model_module": "@jupyter-widgets/base",
          "model_name": "LayoutModel",
          "model_module_version": "1.2.0",
          "state": {
            "_model_module": "@jupyter-widgets/base",
            "_model_module_version": "1.2.0",
            "_model_name": "LayoutModel",
            "_view_count": null,
            "_view_module": "@jupyter-widgets/base",
            "_view_module_version": "1.2.0",
            "_view_name": "LayoutView",
            "align_content": null,
            "align_items": null,
            "align_self": null,
            "border": null,
            "bottom": null,
            "display": null,
            "flex": null,
            "flex_flow": null,
            "grid_area": null,
            "grid_auto_columns": null,
            "grid_auto_flow": null,
            "grid_auto_rows": null,
            "grid_column": null,
            "grid_gap": null,
            "grid_row": null,
            "grid_template_areas": null,
            "grid_template_columns": null,
            "grid_template_rows": null,
            "height": null,
            "justify_content": null,
            "justify_items": null,
            "left": null,
            "margin": null,
            "max_height": null,
            "max_width": null,
            "min_height": null,
            "min_width": null,
            "object_fit": null,
            "object_position": null,
            "order": null,
            "overflow": null,
            "overflow_x": null,
            "overflow_y": null,
            "padding": null,
            "right": null,
            "top": null,
            "visibility": null,
            "width": "20px"
          }
        },
        "d35d85028f724bdf9060752e25ae557a": {
          "model_module": "@jupyter-widgets/controls",
          "model_name": "ProgressStyleModel",
          "model_module_version": "1.5.0",
          "state": {
            "_model_module": "@jupyter-widgets/controls",
            "_model_module_version": "1.5.0",
            "_model_name": "ProgressStyleModel",
            "_view_count": null,
            "_view_module": "@jupyter-widgets/base",
            "_view_module_version": "1.2.0",
            "_view_name": "StyleView",
            "bar_color": null,
            "description_width": ""
          }
        },
        "94f97e85b86f455d835e11e36cf0e9cc": {
          "model_module": "@jupyter-widgets/base",
          "model_name": "LayoutModel",
          "model_module_version": "1.2.0",
          "state": {
            "_model_module": "@jupyter-widgets/base",
            "_model_module_version": "1.2.0",
            "_model_name": "LayoutModel",
            "_view_count": null,
            "_view_module": "@jupyter-widgets/base",
            "_view_module_version": "1.2.0",
            "_view_name": "LayoutView",
            "align_content": null,
            "align_items": null,
            "align_self": null,
            "border": null,
            "bottom": null,
            "display": null,
            "flex": null,
            "flex_flow": null,
            "grid_area": null,
            "grid_auto_columns": null,
            "grid_auto_flow": null,
            "grid_auto_rows": null,
            "grid_column": null,
            "grid_gap": null,
            "grid_row": null,
            "grid_template_areas": null,
            "grid_template_columns": null,
            "grid_template_rows": null,
            "height": null,
            "justify_content": null,
            "justify_items": null,
            "left": null,
            "margin": null,
            "max_height": null,
            "max_width": null,
            "min_height": null,
            "min_width": null,
            "object_fit": null,
            "object_position": null,
            "order": null,
            "overflow": null,
            "overflow_x": null,
            "overflow_y": null,
            "padding": null,
            "right": null,
            "top": null,
            "visibility": null,
            "width": null
          }
        },
        "d06cd888876a4a2db7c3ea4040c332ea": {
          "model_module": "@jupyter-widgets/controls",
          "model_name": "DescriptionStyleModel",
          "model_module_version": "1.5.0",
          "state": {
            "_model_module": "@jupyter-widgets/controls",
            "_model_module_version": "1.5.0",
            "_model_name": "DescriptionStyleModel",
            "_view_count": null,
            "_view_module": "@jupyter-widgets/base",
            "_view_module_version": "1.2.0",
            "_view_name": "StyleView",
            "description_width": ""
          }
        }
      }
    }
  },
  "cells": [
    {
      "cell_type": "markdown",
      "source": [
        "# **A Marketer's Guide to NLP: How Machines Actually Process and Understand Language**\n",
        "by: Joe Domaleski\n",
        "date: October 19, 2025\n",
        "\n",
        "Here's a Python notebook I used to run code for my recent blog post \"A Marketer's Guide to NLP: How Machines Actually Process and Understand Language\". I ran it using Google Colab, but it should work as a Jupyter Notebook as well.\n"
      ],
      "metadata": {
        "id": "bwuGhP2Afy9g"
      }
    },
    {
      "cell_type": "markdown",
      "source": [
        "**From section 3. How Machines Break Down Language: The Building Blocks of NLP**\n",
        "\n",
        "Tokenization example."
      ],
      "metadata": {
        "id": "2TUMBFZEgSGg"
      }
    },
    {
      "cell_type": "code",
      "execution_count": null,
      "metadata": {
        "colab": {
          "base_uri": "https://localhost:8080/"
        },
        "id": "D3DS3tnCneBj",
        "outputId": "1440b77c-e8e3-480e-b823-9d90128de682"
      },
      "outputs": [
        {
          "output_type": "execute_result",
          "data": {
            "text/plain": [
              "['Marketing', 'is', 'both', 'art', 'and', 'science.']"
            ]
          },
          "metadata": {},
          "execution_count": 1
        }
      ],
      "source": [
        "text = \"Marketing is both art and science.\"\n",
        "text.split()"
      ]
    },
    {
      "cell_type": "markdown",
      "source": [
        "**From section 3. How Machines Break Down Language: The Building Blocks of NLP**\n",
        "\n",
        "Stop word removal example."
      ],
      "metadata": {
        "id": "UHxc9bGfgjtf"
      }
    },
    {
      "cell_type": "code",
      "source": [
        "# Install NLTK (only needed the first time)\n",
        "!pip install nltk\n",
        "\n",
        "# Download the necessary resources (only needed once)\n",
        "import nltk\n",
        "nltk.download(\"punkt\")\n",
        "nltk.download(\"punkt_tab\")\n",
        "nltk.download(\"stopwords\")\n",
        "\n",
        "from nltk.corpus import stopwords\n",
        "from nltk.tokenize import word_tokenize\n",
        "\n",
        "text = \"Marketing is both art and science.\"\n",
        "tokens = word_tokenize(text)\n",
        "\n",
        "filtered_tokens = [word for word in tokens if word.lower() not in stopwords.words(\"english\")]\n",
        "\n",
        "print(filtered_tokens)"
      ],
      "metadata": {
        "colab": {
          "base_uri": "https://localhost:8080/"
        },
        "id": "w2oBn343p1Hh",
        "outputId": "5867129b-ff0a-4d79-bdcc-d1c72b99e015"
      },
      "execution_count": null,
      "outputs": [
        {
          "output_type": "stream",
          "name": "stdout",
          "text": [
            "Requirement already satisfied: nltk in /usr/local/lib/python3.12/dist-packages (3.9.1)\n",
            "Requirement already satisfied: click in /usr/local/lib/python3.12/dist-packages (from nltk) (8.3.0)\n",
            "Requirement already satisfied: joblib in /usr/local/lib/python3.12/dist-packages (from nltk) (1.5.2)\n",
            "Requirement already satisfied: regex>=2021.8.3 in /usr/local/lib/python3.12/dist-packages (from nltk) (2024.11.6)\n",
            "Requirement already satisfied: tqdm in /usr/local/lib/python3.12/dist-packages (from nltk) (4.67.1)\n",
            "['Marketing', 'art', 'science', '.']\n"
          ]
        },
        {
          "output_type": "stream",
          "name": "stderr",
          "text": [
            "[nltk_data] Downloading package punkt to /root/nltk_data...\n",
            "[nltk_data]   Package punkt is already up-to-date!\n",
            "[nltk_data] Downloading package punkt_tab to /root/nltk_data...\n",
            "[nltk_data]   Package punkt_tab is already up-to-date!\n",
            "[nltk_data] Downloading package stopwords to /root/nltk_data...\n",
            "[nltk_data]   Package stopwords is already up-to-date!\n"
          ]
        }
      ]
    },
    {
      "cell_type": "markdown",
      "source": [
        "**From section 3. How Machines Break Down Language: The Building Blocks of NLP**\n",
        "\n",
        "Stemming and Lemmatization example.\n",
        "\n",
        "\n",
        "\n",
        "\n",
        "\n"
      ],
      "metadata": {
        "id": "95HB52_Xgzbq"
      }
    },
    {
      "cell_type": "code",
      "source": [
        "# Stemming vs Lemmatization example in Python\n",
        "import nltk\n",
        "from nltk.stem import PorterStemmer, WordNetLemmatizer\n",
        "\n",
        "nltk.download(\"wordnet\")\n",
        "nltk.download(\"omw-1.4\")\n",
        "\n",
        "words = [\"running\", \"ran\", \"runs\"]\n",
        "\n",
        "stemmer = PorterStemmer()\n",
        "lemmatizer = WordNetLemmatizer()\n",
        "\n",
        "print(\"Stemming:\")\n",
        "print([stemmer.stem(word) for word in words])\n",
        "\n",
        "print(\"Lemmatization:\")\n",
        "print([lemmatizer.lemmatize(word, pos=\"v\") for word in words])  # pos=\"v\" = treat words as verbs"
      ],
      "metadata": {
        "colab": {
          "base_uri": "https://localhost:8080/"
        },
        "id": "trb8yyvKhCI0",
        "outputId": "a2d4b10e-3989-451d-a855-5cd457513893"
      },
      "execution_count": 9,
      "outputs": [
        {
          "output_type": "stream",
          "name": "stderr",
          "text": [
            "[nltk_data] Downloading package wordnet to /root/nltk_data...\n",
            "[nltk_data]   Package wordnet is already up-to-date!\n",
            "[nltk_data] Downloading package omw-1.4 to /root/nltk_data...\n"
          ]
        },
        {
          "output_type": "stream",
          "name": "stdout",
          "text": [
            "Stemming:\n",
            "['run', 'ran', 'run']\n",
            "Lemmatization:\n",
            "['run', 'run', 'run']\n"
          ]
        },
        {
          "output_type": "stream",
          "name": "stderr",
          "text": [
            "[nltk_data]   Package omw-1.4 is already up-to-date!\n"
          ]
        }
      ]
    },
    {
      "cell_type": "markdown",
      "source": [
        "**From Section 4. Measuring Word Importance: Bag-of-Words and TF-IDF**\n",
        "\n",
        "Bag-of-words example."
      ],
      "metadata": {
        "id": "Nnij1FPfhdYN"
      }
    },
    {
      "cell_type": "code",
      "source": [
        "from sklearn.feature_extraction.text import CountVectorizer\n",
        "\n",
        "corpus = [\n",
        "    \"Marketing is both art and science.\",\n",
        "    \"Marketing strategy uses data and marketing research to improve decisions.\"\n",
        "]\n",
        "\n",
        "vectorizer = CountVectorizer()\n",
        "bow_matrix = vectorizer.fit_transform(corpus)\n",
        "\n",
        "print(vectorizer.get_feature_names_out())\n",
        "print(bow_matrix.toarray())"
      ],
      "metadata": {
        "colab": {
          "base_uri": "https://localhost:8080/"
        },
        "id": "VpNi1O8Kw-A4",
        "outputId": "bbef5393-ba24-4c82-d8b1-abdf0d475b45"
      },
      "execution_count": null,
      "outputs": [
        {
          "output_type": "stream",
          "name": "stdout",
          "text": [
            "['and' 'art' 'both' 'data' 'decisions' 'improve' 'is' 'marketing'\n",
            " 'research' 'science' 'strategy' 'to' 'uses']\n",
            "[[1 1 1 0 0 0 1 1 0 1 0 0 0]\n",
            " [1 0 0 1 1 1 0 2 1 0 1 1 1]]\n"
          ]
        }
      ]
    },
    {
      "cell_type": "markdown",
      "source": [
        "**From Section 4. Measuring Word Importance: Bag-of-Words and TF-IDF**\n",
        "\n",
        "TF-IDF example."
      ],
      "metadata": {
        "id": "jKaI8L6ThxUo"
      }
    },
    {
      "cell_type": "code",
      "source": [
        "from sklearn.feature_extraction.text import TfidfVectorizer\n",
        "\n",
        "corpus = [\n",
        "    \"Marketing is both art and science.\",\n",
        "    \"Marketing strategy uses data and marketing research to improve decisions.\"\n",
        "]\n",
        "\n",
        "vectorizer = TfidfVectorizer()\n",
        "tfidf_matrix = vectorizer.fit_transform(corpus)\n",
        "\n",
        "print(vectorizer.get_feature_names_out())  # Words in column order\n",
        "print(tfidf_matrix.toarray())             # Importance scores in same order"
      ],
      "metadata": {
        "colab": {
          "base_uri": "https://localhost:8080/"
        },
        "id": "FoYD6Kmn3pqB",
        "outputId": "1b89f8b4-e6fb-4e8f-fbc0-a10fa9f1a7a1"
      },
      "execution_count": null,
      "outputs": [
        {
          "output_type": "stream",
          "name": "stdout",
          "text": [
            "['and' 'art' 'both' 'data' 'decisions' 'improve' 'is' 'marketing'\n",
            " 'research' 'science' 'strategy' 'to' 'uses']\n",
            "[[0.31779954 0.44665616 0.44665616 0.         0.         0.\n",
            "  0.44665616 0.31779954 0.         0.44665616 0.         0.\n",
            "  0.        ]\n",
            " [0.23046538 0.         0.         0.32391104 0.32391104 0.32391104\n",
            "  0.         0.46093075 0.32391104 0.         0.32391104 0.32391104\n",
            "  0.32391104]]\n"
          ]
        }
      ]
    },
    {
      "cell_type": "markdown",
      "source": [
        "**From section 5. From Counting Words to Understanding Meaning: Word Embeddings**\n",
        "\n",
        "Gensim word embedding example."
      ],
      "metadata": {
        "id": "xUoQcDorh_TD"
      }
    },
    {
      "cell_type": "code",
      "source": [
        "# Install Gensim (only needed the first time)\n",
        "!pip install gensim\n",
        "\n",
        "# Load a small pre-trained embedding model\n",
        "import gensim.downloader as api\n",
        "model = api.load(\"glove-wiki-gigaword-100\")  # ~128MB, fast and good for demos\n",
        "\n",
        "# 1) Basic similarity checks\n",
        "pairs = [\n",
        "    (\"buy\", \"purchase\"),\n",
        "    (\"refund\", \"complaint\"),\n",
        "    (\"happy\", \"joyful\"),\n",
        "    (\"happy\", \"furious\"),\n",
        "    (\"marketing\", \"advertising\"),\n",
        "    (\"marketing\", \"banana\"),\n",
        "]\n",
        "\n",
        "for a, b in pairs:\n",
        "    print(f\"similarity({a}, {b}) = {model.similarity(a, b):.3f}\")"
      ],
      "metadata": {
        "colab": {
          "base_uri": "https://localhost:8080/"
        },
        "id": "IwifJuzk-tvn",
        "outputId": "c509d72f-96f7-4867-c80d-1a8ec3beeff5"
      },
      "execution_count": null,
      "outputs": [
        {
          "output_type": "stream",
          "name": "stdout",
          "text": [
            "Collecting gensim\n",
            "  Downloading gensim-4.4.0-cp312-cp312-manylinux_2_24_x86_64.manylinux_2_28_x86_64.whl.metadata (8.4 kB)\n",
            "Requirement already satisfied: numpy>=1.18.5 in /usr/local/lib/python3.12/dist-packages (from gensim) (2.0.2)\n",
            "Requirement already satisfied: scipy>=1.7.0 in /usr/local/lib/python3.12/dist-packages (from gensim) (1.16.2)\n",
            "Requirement already satisfied: smart_open>=1.8.1 in /usr/local/lib/python3.12/dist-packages (from gensim) (7.3.1)\n",
            "Requirement already satisfied: wrapt in /usr/local/lib/python3.12/dist-packages (from smart_open>=1.8.1->gensim) (1.17.3)\n",
            "Downloading gensim-4.4.0-cp312-cp312-manylinux_2_24_x86_64.manylinux_2_28_x86_64.whl (27.9 MB)\n",
            "\u001b[2K   \u001b[90m━━━━━━━━━━━━━━━━━━━━━━━━━━━━━━━━━━━━━━━━\u001b[0m \u001b[32m27.9/27.9 MB\u001b[0m \u001b[31m67.5 MB/s\u001b[0m eta \u001b[36m0:00:00\u001b[0m\n",
            "\u001b[?25hInstalling collected packages: gensim\n",
            "Successfully installed gensim-4.4.0\n",
            "[==================================================] 100.0% 128.1/128.1MB downloaded\n",
            "similarity(buy, purchase) = 0.833\n",
            "similarity(refund, complaint) = 0.341\n",
            "similarity(happy, joyful) = 0.526\n",
            "similarity(happy, furious) = 0.437\n",
            "similarity(marketing, advertising) = 0.819\n",
            "similarity(marketing, banana) = 0.229\n"
          ]
        }
      ]
    },
    {
      "cell_type": "markdown",
      "source": [
        "**From section 5. From Counting Words to Understanding Meaning: Word Embeddings**\n",
        "\n",
        "K Nearest neighbors (knn) example."
      ],
      "metadata": {
        "id": "3SnXSxN3idK3"
      }
    },
    {
      "cell_type": "code",
      "source": [
        "# Find nearest neighbors for key marketing terms\n",
        "print(\"Most similar to 'refund':\")\n",
        "for word, score in model.most_similar(\"refund\", topn=5):\n",
        "    print(f\"  {word:12s} {score:.3f}\")\n",
        "\n",
        "print(\"\\nMost similar to 'buy':\")\n",
        "for word, score in model.most_similar(\"buy\", topn=5):\n",
        "    print(f\"  {word:12s} {score:.3f}\")"
      ],
      "metadata": {
        "colab": {
          "base_uri": "https://localhost:8080/"
        },
        "id": "Iw1OniPfAbqC",
        "outputId": "a0356855-0e09-4295-c991-3777c467b54f"
      },
      "execution_count": null,
      "outputs": [
        {
          "output_type": "stream",
          "name": "stdout",
          "text": [
            "Most similar to 'refund':\n",
            "  refunds      0.848\n",
            "  payment      0.711\n",
            "  refunded     0.673\n",
            "  rebate       0.655\n",
            "  fees         0.641\n",
            "\n",
            "Most similar to 'buy':\n",
            "  sell         0.938\n",
            "  purchase     0.833\n",
            "  bought       0.776\n",
            "  buying       0.773\n",
            "  acquire      0.761\n"
          ]
        }
      ]
    },
    {
      "cell_type": "markdown",
      "source": [
        "**From section 5. From Counting Words to Understanding Meaning: Word Embeddings**\n",
        "\n",
        "Analogy using classic king-man-queen-woman example."
      ],
      "metadata": {
        "id": "oru0lwrhiojw"
      }
    },
    {
      "cell_type": "code",
      "source": [
        "result = model.most_similar(positive=[\"king\", \"woman\"], negative=[\"man\"], topn=5)\n",
        "print(\"\\nAnalogy example: king - man + woman ≈ ?\")\n",
        "for word, score in result:\n",
        "    print(f\"  {word:12s} {score:.3f}\")"
      ],
      "metadata": {
        "colab": {
          "base_uri": "https://localhost:8080/"
        },
        "id": "Hit5wIHgJNYR",
        "outputId": "83f1c638-c2da-452c-f4dc-2ac22b8a1e40"
      },
      "execution_count": null,
      "outputs": [
        {
          "output_type": "stream",
          "name": "stdout",
          "text": [
            "\n",
            "Analogy example: king - man + woman ≈ ?\n",
            "  queen        0.770\n",
            "  monarch      0.684\n",
            "  throne       0.676\n",
            "  daughter     0.659\n",
            "  princess     0.652\n"
          ]
        }
      ]
    },
    {
      "cell_type": "markdown",
      "source": [
        "**From Section 6. Finding Themes at Scale: Topic Modeling using LDA**\n",
        "\n",
        "LDA topic model example."
      ],
      "metadata": {
        "id": "2INo9gNMi3Qo"
      }
    },
    {
      "cell_type": "code",
      "source": [
        "# Install dependencies (only needed the first time)\n",
        "!pip install gensim nltk\n",
        "\n",
        "# Imports and setup\n",
        "import nltk\n",
        "nltk.download(\"stopwords\")\n",
        "from nltk.corpus import stopwords\n",
        "from gensim.utils import simple_preprocess\n",
        "from gensim import corpora, models\n",
        "\n",
        "stop_words = set(stopwords.words(\"english\"))\n",
        "\n",
        "# Example social posts about a brand\n",
        "docs = [\n",
        "    \"The checkout page is slow and the app froze during payment\",\n",
        "    \"Love the new update, the UI feels clean and fast\",\n",
        "    \"Support took forever to answer and I still need a refund\",\n",
        "    \"Marketing email was helpful and I decided to buy today\",\n",
        "    \"Shipping was delayed and tracking never updated\",\n",
        "    \"Great product quality, I recommended it to friends\",\n",
        "    \"The return process is confusing and the policy is hard to find\",\n",
        "    \"I like the price point, the value seems great for what you get\",\n",
        "    \"Customer service was friendly but did not solve my issue\",\n",
        "    \"The mobile site loads slowly and the cart kept emptying\"\n",
        "]\n",
        "\n",
        "# Very light preprocessing\n",
        "def tokenize(text):\n",
        "    tokens = simple_preprocess(text, deacc=True)  # lowercase, remove punctuation\n",
        "    return [t for t in tokens if t not in stop_words and len(t) > 2]\n",
        "\n",
        "tokenized_docs = [tokenize(d) for d in docs]\n",
        "\n",
        "# Build dictionary and bag-of-words corpus\n",
        "dictionary = corpora.Dictionary(tokenized_docs)\n",
        "corpus = [dictionary.doc2bow(text) for text in tokenized_docs]\n",
        "\n",
        "# Train a tiny LDA model (choose the number of topics)\n",
        "num_topics = 3\n",
        "lda = models.LdaModel(\n",
        "    corpus=corpus,\n",
        "    id2word=dictionary,\n",
        "    num_topics=num_topics,\n",
        "    random_state=42,\n",
        "    passes=15,\n",
        "    alpha=\"auto\",\n",
        "    eta=\"auto\",\n",
        ")\n",
        "\n",
        "# Show the learned topics\n",
        "for i, topic in lda.show_topics(num_topics=num_topics, num_words=6, formatted=False):\n",
        "    words = \", \".join([w for w, _ in topic])\n",
        "    print(f\"Topic {i}: {words}\")"
      ],
      "metadata": {
        "id": "yEI2dJMfOLxB",
        "outputId": "b92d0198-5b8e-4721-d389-b140118ed17f",
        "colab": {
          "base_uri": "https://localhost:8080/"
        }
      },
      "execution_count": 10,
      "outputs": [
        {
          "output_type": "stream",
          "name": "stdout",
          "text": [
            "Requirement already satisfied: gensim in /usr/local/lib/python3.12/dist-packages (4.4.0)\n",
            "Requirement already satisfied: nltk in /usr/local/lib/python3.12/dist-packages (3.9.1)\n",
            "Requirement already satisfied: numpy>=1.18.5 in /usr/local/lib/python3.12/dist-packages (from gensim) (2.0.2)\n",
            "Requirement already satisfied: scipy>=1.7.0 in /usr/local/lib/python3.12/dist-packages (from gensim) (1.16.2)\n",
            "Requirement already satisfied: smart_open>=1.8.1 in /usr/local/lib/python3.12/dist-packages (from gensim) (7.3.1)\n",
            "Requirement already satisfied: click in /usr/local/lib/python3.12/dist-packages (from nltk) (8.3.0)\n",
            "Requirement already satisfied: joblib in /usr/local/lib/python3.12/dist-packages (from nltk) (1.5.2)\n",
            "Requirement already satisfied: regex>=2021.8.3 in /usr/local/lib/python3.12/dist-packages (from nltk) (2024.11.6)\n",
            "Requirement already satisfied: tqdm in /usr/local/lib/python3.12/dist-packages (from nltk) (4.67.1)\n",
            "Requirement already satisfied: wrapt in /usr/local/lib/python3.12/dist-packages (from smart_open>=1.8.1->gensim) (1.17.3)\n",
            "Topic 0: great, checkout, payment, slow, froze, app\n",
            "Topic 1: hard, return, policy, confusing, friendly, find\n",
            "Topic 2: update, fast, love, clean, feels, new\n"
          ]
        },
        {
          "output_type": "stream",
          "name": "stderr",
          "text": [
            "[nltk_data] Downloading package stopwords to /root/nltk_data...\n",
            "[nltk_data]   Package stopwords is already up-to-date!\n"
          ]
        }
      ]
    },
    {
      "cell_type": "markdown",
      "source": [
        "**From Section 7. Grouping Similar Messages: Document Clustering with K-Means**\n",
        "\n",
        "k-means clustering example."
      ],
      "metadata": {
        "id": "nTjyHrcUjc47"
      }
    },
    {
      "cell_type": "code",
      "source": [
        "!pip -q install sentence-transformers scikit-learn\n",
        "\n",
        "from sentence_transformers import SentenceTransformer\n",
        "from sklearn.cluster import KMeans\n",
        "from sklearn.decomposition import PCA\n",
        "import matplotlib.pyplot as plt\n",
        "import numpy as np\n",
        "\n",
        "docs = [\n",
        "    \"The checkout page is slow and the app froze during payment\",\n",
        "    \"Love the new update, the UI feels clean and fast\",\n",
        "    \"Support took forever to answer and I still need a refund\",\n",
        "    \"Marketing email was helpful and I decided to buy today\",\n",
        "    \"Shipping was delayed and tracking never updated\",\n",
        "    \"Great product quality, I recommended it to friends\",\n",
        "    \"The return process is confusing and the policy is hard to find\",\n",
        "    \"I like the price point, the value seems great for what you get\",\n",
        "    \"Customer service was friendly but did not solve my issue\",\n",
        "    \"The mobile site loads slowly and the cart kept emptying\"\n",
        "]\n",
        "\n",
        "# Embeddings\n",
        "model = SentenceTransformer(\"all-MiniLM-L6-v2\")\n",
        "embeddings = model.encode(docs, normalize_embeddings=True)\n",
        "\n",
        "# K-means (k=3)\n",
        "k = 3\n",
        "kmeans = KMeans(n_clusters=k, n_init=20, random_state=42)\n",
        "labels = kmeans.fit_predict(embeddings)\n",
        "\n",
        "# Show example documents by cluster\n",
        "for i in range(k):\n",
        "    print(f\"\\nCluster {i}\")\n",
        "    for j, d in enumerate(docs):\n",
        "        if labels[j] == i:\n",
        "            print(\" -\", d)"
      ],
      "metadata": {
        "colab": {
          "base_uri": "https://localhost:8080/"
        },
        "id": "qoeT8fjBt-Qh",
        "outputId": "3cf2b139-a697-41b0-f41f-162a81e66311"
      },
      "execution_count": 11,
      "outputs": [
        {
          "output_type": "stream",
          "name": "stdout",
          "text": [
            "\n",
            "Cluster 0\n",
            " - Support took forever to answer and I still need a refund\n",
            " - Marketing email was helpful and I decided to buy today\n",
            " - Shipping was delayed and tracking never updated\n",
            " - The return process is confusing and the policy is hard to find\n",
            " - Customer service was friendly but did not solve my issue\n",
            "\n",
            "Cluster 1\n",
            " - Love the new update, the UI feels clean and fast\n",
            " - Great product quality, I recommended it to friends\n",
            " - I like the price point, the value seems great for what you get\n",
            "\n",
            "Cluster 2\n",
            " - The checkout page is slow and the app froze during payment\n",
            " - The mobile site loads slowly and the cart kept emptying\n"
          ]
        }
      ]
    },
    {
      "cell_type": "markdown",
      "source": [
        "**From Section 7. Grouping Similar Messages: Document Clustering with K-Means**\n",
        "\n",
        "k-means clustering example part 2 - plot using PCA."
      ],
      "metadata": {
        "id": "UNagiIyIj_jW"
      }
    },
    {
      "cell_type": "code",
      "source": [
        "# 2D projection for visualization (clustering already done in full space)\n",
        "pca = PCA(n_components=2, random_state=42)\n",
        "pts_2d = pca.fit_transform(embeddings)\n",
        "centroids_2d = pca.transform(kmeans.cluster_centers_)\n",
        "\n",
        "# Simple helper to make short labels for each sentence\n",
        "def short_label(text, n=2):\n",
        "    return \" \".join(text.split()[:n]).lower().rstrip(\",.:;\")\n",
        "\n",
        "plt.figure(figsize=(7,5))\n",
        "for i in range(k):\n",
        "    mask = labels == i\n",
        "    plt.scatter(pts_2d[mask,0], pts_2d[mask,1], label=f\"Cluster {i}\")\n",
        "    # annotate a few points in each cluster\n",
        "    for idx in np.where(mask)[0]:\n",
        "        plt.annotate(short_label(docs[idx]), (pts_2d[idx,0], pts_2d[idx,1]), fontsize=8,\n",
        "                     textcoords=\"offset points\", xytext=(3,3))\n",
        "\n",
        "plt.scatter(centroids_2d[:,0], centroids_2d[:,1], marker=\"X\", s=200, label=\"Centroids\")\n",
        "plt.title(\"K-Means on Social Posts (MiniLM embeddings; PCA for visualization)\")\n",
        "plt.xlabel(\"PC1\"); plt.ylabel(\"PC2\"); plt.legend()\n",
        "plt.tight_layout()\n",
        "plt.show()"
      ],
      "metadata": {
        "colab": {
          "base_uri": "https://localhost:8080/",
          "height": 507
        },
        "id": "E8lGHSeykHS5",
        "outputId": "0b934f93-a81b-444a-dfbb-f1925bae469c"
      },
      "execution_count": 12,
      "outputs": [
        {
          "output_type": "display_data",
          "data": {
            "text/plain": [
              "<Figure size 700x500 with 1 Axes>"
            ],
            "image/png": "[encoded data removed]"
          },
          "metadata": {}
        }
      ]
    },
    {
      "cell_type": "markdown",
      "source": [
        "**From Section 8. Teaching the Machine to Label Text: Supervised NLP Classification**\n",
        "\n",
        "Sentiment analysis using VADER example."
      ],
      "metadata": {
        "id": "fDPXstA8kNqs"
      }
    },
    {
      "cell_type": "code",
      "source": [
        "# Install once in a new notebook\n",
        "!pip -q install nltk\n",
        "\n",
        "# Imports and setup\n",
        "import nltk\n",
        "nltk.download(\"vader_lexicon\")\n",
        "\n",
        "from nltk.sentiment import SentimentIntensityAnalyzer\n",
        "import numpy as np\n",
        "\n",
        "# Same social posts as earlier\n",
        "docs = [\n",
        "    \"The checkout page is slow and the app froze during payment\",\n",
        "    \"Love the new update, the UI feels clean and fast\",\n",
        "    \"Support took forever to answer and I still need a refund\",\n",
        "    \"Marketing email was helpful and I decided to buy today\",\n",
        "    \"Shipping was delayed and tracking never updated\",\n",
        "    \"Great product quality, I recommended it to friends\",\n",
        "    \"The return process is confusing and the policy is hard to find\",\n",
        "    \"I like the price point, the value seems great for what you get\",\n",
        "    \"Customer service was friendly but did not solve my issue\",\n",
        "    \"The mobile site loads slowly and the cart kept emptying\"\n",
        "]\n",
        "\n",
        "sia = SentimentIntensityAnalyzer()\n",
        "\n",
        "def label_from_compound(c):\n",
        "    if c >= 0.05:\n",
        "        return \"positive\"\n",
        "    elif c <= -0.05:\n",
        "        return \"negative\"\n",
        "    else:\n",
        "        return \"neutral\"\n",
        "\n",
        "results = []\n",
        "for d in docs:\n",
        "    scores = sia.polarity_scores(d)\n",
        "    label = label_from_compound(scores[\"compound\"])\n",
        "    results.append({\"text\": d, **scores, \"label\": label})\n",
        "\n",
        "# Print per-post results\n",
        "for r in results:\n",
        "    print(f\"[{r['label']}] {r['compound']:.3f}  {r['text']}\")\n",
        "\n",
        "# Simple summary\n",
        "labels = [r[\"label\"] for r in results]\n",
        "unique, counts = np.unique(labels, return_counts=True)\n",
        "print(\"\\nLabel counts:\", dict(zip(unique, counts)))\n",
        "\n",
        "avg_compound = np.mean([r[\"compound\"] for r in results])\n",
        "print(\"Average compound score:\", round(avg_compound, 3))"
      ],
      "metadata": {
        "colab": {
          "base_uri": "https://localhost:8080/"
        },
        "id": "heTQzHGjMNim",
        "outputId": "d4b8ecef-1881-49f8-a0d0-e31e84029780"
      },
      "execution_count": 6,
      "outputs": [
        {
          "output_type": "stream",
          "name": "stdout",
          "text": [
            "[neutral] 0.000  The checkout page is slow and the app froze during payment\n",
            "[positive] 0.784  Love the new update, the UI feels clean and fast\n",
            "[positive] 0.402  Support took forever to answer and I still need a refund\n",
            "[positive] 0.421  Marketing email was helpful and I decided to buy today\n",
            "[negative] -0.226  Shipping was delayed and tracking never updated\n",
            "[positive] 0.840  Great product quality, I recommended it to friends\n",
            "[negative] -0.318  The return process is confusing and the policy is hard to find\n",
            "[positive] 0.840  I like the price point, the value seems great for what you get\n",
            "[positive] 0.055  Customer service was friendly but did not solve my issue\n",
            "[negative] -0.153  The mobile site loads slowly and the cart kept emptying\n",
            "\n",
            "Label counts: {np.str_('negative'): np.int64(3), np.str_('neutral'): np.int64(1), np.str_('positive'): np.int64(6)}\n",
            "Average compound score: 0.265\n"
          ]
        },
        {
          "output_type": "stream",
          "name": "stderr",
          "text": [
            "[nltk_data] Downloading package vader_lexicon to /root/nltk_data...\n",
            "[nltk_data]   Package vader_lexicon is already up-to-date!\n"
          ]
        }
      ]
    },
    {
      "cell_type": "markdown",
      "source": [
        "**From Section 9. The Modern Breakthrough: Neural Networks and Transformers for NLP**\n",
        "\n",
        "Summarization example using DistilBART and PyTorch"
      ],
      "metadata": {
        "id": "L08CeWgHkcCj"
      }
    },
    {
      "cell_type": "code",
      "source": [
        "# Install once in a new notebook\n",
        "!pip -q install transformers torch sentencepiece\n",
        "\n",
        "from transformers import pipeline\n",
        "\n",
        "# Use a compact, fast summarization model\n",
        "summarizer = pipeline(\n",
        "    task=\"summarization\",\n",
        "    model=\"sshleifer/distilbart-cnn-12-6\",  # small DistilBART CNN model\n",
        "    framework=\"pt\"  # use PyTorch backend\n",
        ")\n",
        "\n",
        "text = \"\"\"\n",
        "Our team analyzed thousands of customer comments about the fall product line across email, support tickets,\n",
        "and social media. People love the updated UI and faster load times. The most common complaints were around\n",
        "shipping delays and the return policy being hard to find. A smaller but vocal group mentioned pricing\n",
        "confusion during checkout, especially on mobile. We also saw growing interest in the new “starter” bundle,\n",
        "which performed well with first-time buyers and gift purchasers. Overall sentiment trended positive,\n",
        "but operational issues like delivery and returns caused friction for repeat customers.\n",
        "\"\"\"\n",
        "\n",
        "summary = summarizer(\n",
        "    text,\n",
        "    max_length=110,  # upper bound for summary length (in tokens)\n",
        "    min_length=45,   # lower bound to avoid ultra-short summaries\n",
        "    do_sample=False  # deterministic output\n",
        ")[0][\"summary_text\"]\n",
        "\n",
        "print(summary)"
      ],
      "metadata": {
        "colab": {
          "base_uri": "https://localhost:8080/",
          "height": 264,
          "referenced_widgets": [
            "088bf5f490d24d6fa6157e2e34deaeaa",
            "2478d1162e0f4fe5afc22f73e986bfab",
            "b5dab2cce1ad4ddd8cf0b5bbbd79cdb4",
            "2720852afdb149ce9bfdfb8be67b4130",
            "90c7a8cf2729461ebf48a674b1de29c5",
            "cc36d9ab2eee4a7c86c7c9b366654b73",
            "ba6aae9c2236438bb515a56125136adc",
            "d7073406b519410d8744557c20616ced",
            "f235dff2c6b1488ea76bb1a76354e8bb",
            "338e805724754deebd8f832c6c6fc399",
            "05104572b84346f0982357ecfd905803",
            "6f8367bbb4a54bc7a7146fefe26b809d",
            "47872fcdfab94753a17236122ec83a21",
            "db970d73167b4f5880b73b4138484511",
            "82294468c9b943ab83a4ad6ffd7ef45e",
            "416ccb0493c04870a92b58476be942cc",
            "b2a31473169e4eaf8db869d043091515",
            "9f8d6842ae5d4466b4852fb9484e4974",
            "51347523673e4591876ebb62baee6e23",
            "df519b4fb5b340098645baf4ca12785b",
            "5abf1afe124d44a48d2deafd5f6c28ec",
            "a11dd3a61cce4fd0aabaa303cb4c2081",
            "b4dc617042614ba390671c9aacb10061",
            "d95d829a2ccd4b01979a18a3b6b27ef9",
            "34729aea3a404cbba240dab7be0d5939",
            "9296d0e93a8942c0bc9e4bb094dcb3fb",
            "e49b5a94e49a419b9cbd2d091be3e254",
            "00975005a132439b9997a45bba30f8a3",
            "65911ecff1874ea297dc0de17b48a913",
            "e5c2b6c2764f42329451ae8b233ff281",
            "356088d088f1477ebcbe7062b4e2bfe0",
            "6df38e58364f43ecbcab76d329546e35",
            "4598528ba35b48ac947c64f262619ec3",
            "2a3448befe3f4ef3a88cac155f664019",
            "183577ac61794393a7bb9b570e5516e1",
            "a7ac64f750fa41a1a2f05c82e9ea4a3a",
            "f8160828e06c4e7f901e73074a60da81",
            "2c5e9e6a84f243caa165f8630ba27dcb",
            "3809bf3b29214162878677d17541ec83",
            "13b2f1480b634b1b90c21935d6ab4caf",
            "845ce41de1694482b69634252a358740",
            "fa0dc5d9613649e3970a49432f8cbe6f",
            "0ca9dcfd6a834970823d59bf07b3c0df",
            "93e5b88e03104e61ba56e4a381cfd52f",
            "b1590b984f0d417eb79e49ace63aaa46",
            "7fc9f1acac7b44e38c2c7a3427a42b54",
            "aebfb60e787c472f9f95576a0a3fbfe4",
            "c84d767b9b4b408f8058854ed18e0635",
            "81c83cda8b594942938bb40640898845",
            "d8e8b81298914e95b0617348083b1314",
            "468afad27c5e4b1395604f06039d370b",
            "22c4d2d2d5e44bde866cb0d0e29152db",
            "50d26872bce5416ea87e71fecae9b362",
            "781674685c8d4da3aa831e21bcd2fdd0",
            "1195acccedf24f2c91296bbb4967eaeb",
            "fcdac4a769574605a980d31865bc81a8",
            "524d4dc41624425784f20eb9b1097ea1",
            "529b1881315c4306aa8d93c18c12ba09",
            "8fbf540225564452bc9ace65a8e4a1d9",
            "1a85f635ad40494c9d24a4e8e70464ab",
            "8397898b0485494ca4f680867aef1283",
            "a0cef3cdfaee4b7d80016e8601ee029b",
            "33e20da897214b24bec2592f8c68353f",
            "d35d85028f724bdf9060752e25ae557a",
            "94f97e85b86f455d835e11e36cf0e9cc",
            "d06cd888876a4a2db7c3ea4040c332ea"
          ]
        },
        "id": "IQ-SUeJ8xXir",
        "outputId": "104e211d-b514-4160-83fb-9a8e413acbc7"
      },
      "execution_count": 8,
      "outputs": [
        {
          "output_type": "display_data",
          "data": {
            "text/plain": [
              "config.json: 0.00B [00:00, ?B/s]"
            ],
            "application/vnd.jupyter.widget-view+json": {
              "version_major": 2,
              "version_minor": 0,
              "model_id": "088bf5f490d24d6fa6157e2e34deaeaa"
            }
          },
          "metadata": {}
        },
        {
          "output_type": "display_data",
          "data": {
            "text/plain": [
              "pytorch_model.bin:   0%|          | 0.00/1.22G [00:00<?, ?B/s]"
            ],
            "application/vnd.jupyter.widget-view+json": {
              "version_major": 2,
              "version_minor": 0,
              "model_id": "6f8367bbb4a54bc7a7146fefe26b809d"
            }
          },
          "metadata": {}
        },
        {
          "output_type": "display_data",
          "data": {
            "text/plain": [
              "model.safetensors:   0%|          | 0.00/1.22G [00:00<?, ?B/s]"
            ],
            "application/vnd.jupyter.widget-view+json": {
              "version_major": 2,
              "version_minor": 0,
              "model_id": "b4dc617042614ba390671c9aacb10061"
            }
          },
          "metadata": {}
        },
        {
          "output_type": "display_data",
          "data": {
            "text/plain": [
              "tokenizer_config.json:   0%|          | 0.00/26.0 [00:00<?, ?B/s]"
            ],
            "application/vnd.jupyter.widget-view+json": {
              "version_major": 2,
              "version_minor": 0,
              "model_id": "2a3448befe3f4ef3a88cac155f664019"
            }
          },
          "metadata": {}
        },
        {
          "output_type": "display_data",
          "data": {
            "text/plain": [
              "vocab.json: 0.00B [00:00, ?B/s]"
            ],
            "application/vnd.jupyter.widget-view+json": {
              "version_major": 2,
              "version_minor": 0,
              "model_id": "b1590b984f0d417eb79e49ace63aaa46"
            }
          },
          "metadata": {}
        },
        {
          "output_type": "display_data",
          "data": {
            "text/plain": [
              "merges.txt: 0.00B [00:00, ?B/s]"
            ],
            "application/vnd.jupyter.widget-view+json": {
              "version_major": 2,
              "version_minor": 0,
              "model_id": "fcdac4a769574605a980d31865bc81a8"
            }
          },
          "metadata": {}
        },
        {
          "output_type": "stream",
          "name": "stderr",
          "text": [
            "Device set to use cpu\n"
          ]
        },
        {
          "output_type": "stream",
          "name": "stdout",
          "text": [
            " Our team analyzed thousands of customer comments about the fall product line across email, support tickets, and social media . People love the updated UI and faster load times . The most common complaints were around shipping delays and the return policy being hard to find .\n"
          ]
        }
      ]
    }
  ]
}